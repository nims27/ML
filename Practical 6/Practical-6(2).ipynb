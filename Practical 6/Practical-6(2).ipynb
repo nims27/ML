{
 "cells": [
  {
   "cell_type": "markdown",
   "metadata": {
    "papermill": {
     "duration": 0.008996,
     "end_time": "2021-03-07T14:32:46.906486",
     "exception": false,
     "start_time": "2021-03-07T14:32:46.897490",
     "status": "completed"
    },
    "tags": []
   },
   "source": [
    "**Import Logistic Regression, SVM and KNN model**[](http://)"
   ]
  },
  {
   "cell_type": "code",
   "execution_count": 1,
   "metadata": {
    "execution": {
     "iopub.execute_input": "2021-03-07T14:32:46.930150Z",
     "iopub.status.busy": "2021-03-07T14:32:46.929406Z",
     "iopub.status.idle": "2021-03-07T14:32:48.140721Z",
     "shell.execute_reply": "2021-03-07T14:32:48.139270Z"
    },
    "papermill": {
     "duration": 1.226055,
     "end_time": "2021-03-07T14:32:48.140983",
     "exception": false,
     "start_time": "2021-03-07T14:32:46.914928",
     "status": "completed"
    },
    "tags": []
   },
   "outputs": [],
   "source": [
    "from sklearn.linear_model import LogisticRegression\n",
    "from sklearn.svm import SVC\n",
    "from sklearn.neighbors import KNeighborsClassifier"
   ]
  },
  {
   "cell_type": "markdown",
   "metadata": {
    "papermill": {
     "duration": 0.008066,
     "end_time": "2021-03-07T14:32:48.159069",
     "exception": false,
     "start_time": "2021-03-07T14:32:48.151003",
     "status": "completed"
    },
    "tags": []
   },
   "source": [
    "**Creates objects of all three model**"
   ]
  },
  {
   "cell_type": "code",
   "execution_count": 2,
   "metadata": {
    "execution": {
     "iopub.execute_input": "2021-03-07T14:32:48.182247Z",
     "iopub.status.busy": "2021-03-07T14:32:48.181553Z",
     "iopub.status.idle": "2021-03-07T14:32:48.185026Z",
     "shell.execute_reply": "2021-03-07T14:32:48.184493Z"
    },
    "papermill": {
     "duration": 0.017581,
     "end_time": "2021-03-07T14:32:48.185182",
     "exception": false,
     "start_time": "2021-03-07T14:32:48.167601",
     "status": "completed"
    },
    "tags": []
   },
   "outputs": [],
   "source": [
    "lr = LogisticRegression(max_iter=10000)\n",
    "svm = SVC()\n",
    "knn = KNeighborsClassifier()"
   ]
  },
  {
   "cell_type": "markdown",
   "metadata": {
    "papermill": {
     "duration": 0.008219,
     "end_time": "2021-03-07T14:32:48.202104",
     "exception": false,
     "start_time": "2021-03-07T14:32:48.193885",
     "status": "completed"
    },
    "tags": []
   },
   "source": [
    "**Loads digit dataset from sklearn**"
   ]
  },
  {
   "cell_type": "code",
   "execution_count": 3,
   "metadata": {
    "execution": {
     "iopub.execute_input": "2021-03-07T14:32:48.224319Z",
     "iopub.status.busy": "2021-03-07T14:32:48.223671Z",
     "iopub.status.idle": "2021-03-07T14:32:48.494187Z",
     "shell.execute_reply": "2021-03-07T14:32:48.493445Z"
    },
    "papermill": {
     "duration": 0.283609,
     "end_time": "2021-03-07T14:32:48.494355",
     "exception": false,
     "start_time": "2021-03-07T14:32:48.210746",
     "status": "completed"
    },
    "tags": []
   },
   "outputs": [],
   "source": [
    "from sklearn.datasets import load_digits\n",
    "digits = load_digits()"
   ]
  },
  {
   "cell_type": "markdown",
   "metadata": {
    "papermill": {
     "duration": 0.008428,
     "end_time": "2021-03-07T14:32:48.511654",
     "exception": false,
     "start_time": "2021-03-07T14:32:48.503226",
     "status": "completed"
    },
    "tags": []
   },
   "source": [
    "**Import StratifiedKFold and creates object of it**"
   ]
  },
  {
   "cell_type": "code",
   "execution_count": 4,
   "metadata": {
    "execution": {
     "iopub.execute_input": "2021-03-07T14:32:48.535074Z",
     "iopub.status.busy": "2021-03-07T14:32:48.534344Z",
     "iopub.status.idle": "2021-03-07T14:32:48.537680Z",
     "shell.execute_reply": "2021-03-07T14:32:48.537155Z"
    },
    "papermill": {
     "duration": 0.017385,
     "end_time": "2021-03-07T14:32:48.537841",
     "exception": false,
     "start_time": "2021-03-07T14:32:48.520456",
     "status": "completed"
    },
    "tags": []
   },
   "outputs": [],
   "source": [
    "from sklearn.model_selection import StratifiedKFold \n",
    "kf = StratifiedKFold(n_splits=3)"
   ]
  },
  {
   "cell_type": "markdown",
   "metadata": {
    "papermill": {
     "duration": 0.008209,
     "end_time": "2021-03-07T14:32:48.554843",
     "exception": false,
     "start_time": "2021-03-07T14:32:48.546634",
     "status": "completed"
    },
    "tags": []
   },
   "source": [
    "**Train and test digit dataset for all three model using StratifiedKFold**"
   ]
  },
  {
   "cell_type": "code",
   "execution_count": 5,
   "metadata": {
    "execution": {
     "iopub.execute_input": "2021-03-07T14:32:48.582101Z",
     "iopub.status.busy": "2021-03-07T14:32:48.581240Z",
     "iopub.status.idle": "2021-03-07T14:33:02.063585Z",
     "shell.execute_reply": "2021-03-07T14:33:02.064146Z"
    },
    "papermill": {
     "duration": 13.501051,
     "end_time": "2021-03-07T14:33:02.064407",
     "exception": false,
     "start_time": "2021-03-07T14:32:48.563356",
     "status": "completed"
    },
    "tags": []
   },
   "outputs": [],
   "source": [
    "lr_score = []\n",
    "svm_score = []\n",
    "knn_score = []\n",
    "\n",
    "for train_index, test_index in kf.split(digits.data, digits.target):\n",
    "    X_train, X_test, y_train, y_test = digits.data[train_index], digits.data[test_index], digits.target[train_index], digits.target[test_index]\n",
    "    lr.fit(X_train, y_train)\n",
    "    lr_score.append(lr.score(X_test, y_test)) \n",
    "        \n",
    "    svm.fit(X_train, y_train)\n",
    "    svm_score.append(svm.score(X_test, y_test))\n",
    "    \n",
    "    knn.fit(X_train, y_train)\n",
    "    knn_score.append(svm.score(X_test, y_test))"
   ]
  },
  {
   "cell_type": "markdown",
   "metadata": {
    "papermill": {
     "duration": 0.009605,
     "end_time": "2021-03-07T14:33:02.084530",
     "exception": false,
     "start_time": "2021-03-07T14:33:02.074925",
     "status": "completed"
    },
    "tags": []
   },
   "source": [
    "**Prints accuracy of all three models**"
   ]
  },
  {
   "cell_type": "code",
   "execution_count": 6,
   "metadata": {
    "execution": {
     "iopub.execute_input": "2021-03-07T14:33:02.106717Z",
     "iopub.status.busy": "2021-03-07T14:33:02.106021Z",
     "iopub.status.idle": "2021-03-07T14:33:02.115503Z",
     "shell.execute_reply": "2021-03-07T14:33:02.114933Z"
    },
    "papermill": {
     "duration": 0.021883,
     "end_time": "2021-03-07T14:33:02.115669",
     "exception": false,
     "start_time": "2021-03-07T14:33:02.093786",
     "status": "completed"
    },
    "tags": []
   },
   "outputs": [
    {
     "name": "stdout",
     "output_type": "stream",
     "text": [
      "Logistic Regression    : [0.9248747913188647, 0.9382303839732888, 0.9232053422370617]\n",
      "Support Vector Machine : [0.9649415692821369, 0.9799666110183639, 0.9649415692821369]\n",
      "K Nearest Neighbor     : [0.9649415692821369, 0.9799666110183639, 0.9649415692821369]\n"
     ]
    }
   ],
   "source": [
    "print(\"Logistic Regression    :\", lr_score)\n",
    "print(\"Support Vector Machine :\", svm_score)\n",
    "print(\"K Nearest Neighbor     :\", knn_score)"
   ]
  },
  {
   "cell_type": "markdown",
   "metadata": {
    "papermill": {
     "duration": 0.008946,
     "end_time": "2021-03-07T14:33:02.134166",
     "exception": false,
     "start_time": "2021-03-07T14:33:02.125220",
     "status": "completed"
    },
    "tags": []
   },
   "source": [
    "**Finds accuracy for all three model using cross_val_score**"
   ]
  },
  {
   "cell_type": "code",
   "execution_count": 7,
   "metadata": {
    "execution": {
     "iopub.execute_input": "2021-03-07T14:33:02.160637Z",
     "iopub.status.busy": "2021-03-07T14:33:02.159885Z",
     "iopub.status.idle": "2021-03-07T14:33:15.617306Z",
     "shell.execute_reply": "2021-03-07T14:33:15.616779Z"
    },
    "papermill": {
     "duration": 13.473786,
     "end_time": "2021-03-07T14:33:15.617481",
     "exception": false,
     "start_time": "2021-03-07T14:33:02.143695",
     "status": "completed"
    },
    "tags": []
   },
   "outputs": [
    {
     "name": "stdout",
     "output_type": "stream",
     "text": [
      "Logistic Regression    : [0.92487479 0.93823038 0.92320534]\n",
      "Support Vector Machine : [0.96494157 0.97996661 0.96494157]\n",
      "K Nearest Neighbor     : [0.95826377 0.96327212 0.96661102]\n"
     ]
    }
   ],
   "source": [
    "from sklearn.model_selection import cross_val_score\n",
    "print(\"Logistic Regression    :\", cross_val_score(LogisticRegression(max_iter=10000), digits.data, digits.target, cv=3))\n",
    "print(\"Support Vector Machine :\", cross_val_score(SVC(), digits.data, digits.target, cv=3))\n",
    "print(\"K Nearest Neighbor     :\", cross_val_score(KNeighborsClassifier(), digits.data, digits.target, cv=3))"
   ]
  }
 ],
 "metadata": {
  "kernelspec": {
   "display_name": "Python 3",
   "language": "python",
   "name": "python3"
  },
  "language_info": {
   "codemirror_mode": {
    "name": "ipython",
    "version": 3
   },
   "file_extension": ".py",
   "mimetype": "text/x-python",
   "name": "python",
   "nbconvert_exporter": "python",
   "pygments_lexer": "ipython3",
   "version": "3.7.4"
  },
  "papermill": {
   "default_parameters": {},
   "duration": 35.300819,
   "end_time": "2021-03-07T14:33:16.239997",
   "environment_variables": {},
   "exception": null,
   "input_path": "__notebook__.ipynb",
   "output_path": "__notebook__.ipynb",
   "parameters": {},
   "start_time": "2021-03-07T14:32:40.939178",
   "version": "2.2.2"
  }
 },
 "nbformat": 4,
 "nbformat_minor": 4
}
