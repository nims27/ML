{
 "cells": [
  {
   "cell_type": "markdown",
   "metadata": {
    "papermill": {
     "duration": 0.008978,
     "end_time": "2021-03-07T14:31:22.009208",
     "exception": false,
     "start_time": "2021-03-07T14:31:22.000230",
     "status": "completed"
    },
    "tags": []
   },
   "source": [
    "**Import Logistic Regression, SVM and KNN model**"
   ]
  },
  {
   "cell_type": "code",
   "execution_count": 1,
   "metadata": {
    "execution": {
     "iopub.execute_input": "2021-03-07T14:31:22.031991Z",
     "iopub.status.busy": "2021-03-07T14:31:22.031311Z",
     "iopub.status.idle": "2021-03-07T14:31:23.270119Z",
     "shell.execute_reply": "2021-03-07T14:31:23.268922Z"
    },
    "papermill": {
     "duration": 1.252311,
     "end_time": "2021-03-07T14:31:23.270355",
     "exception": false,
     "start_time": "2021-03-07T14:31:22.018044",
     "status": "completed"
    },
    "tags": []
   },
   "outputs": [],
   "source": [
    "from sklearn.linear_model import LogisticRegression\n",
    "from sklearn.svm import SVC\n",
    "from sklearn.neighbors import KNeighborsClassifier"
   ]
  },
  {
   "cell_type": "markdown",
   "metadata": {
    "papermill": {
     "duration": 0.007766,
     "end_time": "2021-03-07T14:31:23.286890",
     "exception": false,
     "start_time": "2021-03-07T14:31:23.279124",
     "status": "completed"
    },
    "tags": []
   },
   "source": [
    "**Creates objects of all three model**"
   ]
  },
  {
   "cell_type": "code",
   "execution_count": 2,
   "metadata": {
    "execution": {
     "iopub.execute_input": "2021-03-07T14:31:23.308641Z",
     "iopub.status.busy": "2021-03-07T14:31:23.307972Z",
     "iopub.status.idle": "2021-03-07T14:31:23.311197Z",
     "shell.execute_reply": "2021-03-07T14:31:23.310542Z"
    },
    "papermill": {
     "duration": 0.016264,
     "end_time": "2021-03-07T14:31:23.311338",
     "exception": false,
     "start_time": "2021-03-07T14:31:23.295074",
     "status": "completed"
    },
    "tags": []
   },
   "outputs": [],
   "source": [
    "lr = LogisticRegression(max_iter=10000)\n",
    "svm = SVC()\n",
    "knn = KNeighborsClassifier()"
   ]
  },
  {
   "cell_type": "markdown",
   "metadata": {
    "papermill": {
     "duration": 0.008321,
     "end_time": "2021-03-07T14:31:23.328216",
     "exception": false,
     "start_time": "2021-03-07T14:31:23.319895",
     "status": "completed"
    },
    "tags": []
   },
   "source": [
    "**Loads iris dataset from sklearn**"
   ]
  },
  {
   "cell_type": "code",
   "execution_count": 3,
   "metadata": {
    "execution": {
     "iopub.execute_input": "2021-03-07T14:31:23.350155Z",
     "iopub.status.busy": "2021-03-07T14:31:23.349425Z",
     "iopub.status.idle": "2021-03-07T14:31:23.522674Z",
     "shell.execute_reply": "2021-03-07T14:31:23.523175Z"
    },
    "papermill": {
     "duration": 0.186615,
     "end_time": "2021-03-07T14:31:23.523360",
     "exception": false,
     "start_time": "2021-03-07T14:31:23.336745",
     "status": "completed"
    },
    "tags": []
   },
   "outputs": [],
   "source": [
    "from sklearn.datasets import load_iris\n",
    "iris = load_iris()"
   ]
  },
  {
   "cell_type": "markdown",
   "metadata": {
    "papermill": {
     "duration": 0.008297,
     "end_time": "2021-03-07T14:31:23.540497",
     "exception": false,
     "start_time": "2021-03-07T14:31:23.532200",
     "status": "completed"
    },
    "tags": []
   },
   "source": [
    "**Import StratifiedKFold and creates object of it**"
   ]
  },
  {
   "cell_type": "code",
   "execution_count": 4,
   "metadata": {
    "execution": {
     "iopub.execute_input": "2021-03-07T14:31:23.563348Z",
     "iopub.status.busy": "2021-03-07T14:31:23.562615Z",
     "iopub.status.idle": "2021-03-07T14:31:23.565229Z",
     "shell.execute_reply": "2021-03-07T14:31:23.565747Z"
    },
    "papermill": {
     "duration": 0.01678,
     "end_time": "2021-03-07T14:31:23.565923",
     "exception": false,
     "start_time": "2021-03-07T14:31:23.549143",
     "status": "completed"
    },
    "tags": []
   },
   "outputs": [],
   "source": [
    "from sklearn.model_selection import StratifiedKFold \n",
    "kf = StratifiedKFold(n_splits=3)"
   ]
  },
  {
   "cell_type": "markdown",
   "metadata": {
    "papermill": {
     "duration": 0.008321,
     "end_time": "2021-03-07T14:31:23.582909",
     "exception": false,
     "start_time": "2021-03-07T14:31:23.574588",
     "status": "completed"
    },
    "tags": []
   },
   "source": [
    "**Train and test iris dataset for all three model using StratifiedKFold**"
   ]
  },
  {
   "cell_type": "code",
   "execution_count": 5,
   "metadata": {
    "execution": {
     "iopub.execute_input": "2021-03-07T14:31:23.609578Z",
     "iopub.status.busy": "2021-03-07T14:31:23.608796Z",
     "iopub.status.idle": "2021-03-07T14:31:23.700825Z",
     "shell.execute_reply": "2021-03-07T14:31:23.700103Z"
    },
    "papermill": {
     "duration": 0.109525,
     "end_time": "2021-03-07T14:31:23.701005",
     "exception": false,
     "start_time": "2021-03-07T14:31:23.591480",
     "status": "completed"
    },
    "tags": []
   },
   "outputs": [],
   "source": [
    "lr_score = []\n",
    "svm_score = []\n",
    "knn_score = []\n",
    "\n",
    "for train_index,test_index in kf.split(iris.data, iris.target):\n",
    "    X_train, X_test, y_train, y_test = iris.data[train_index], iris.data[test_index], iris.target[train_index], iris.target[test_index]\n",
    "    lr.fit(X_train, y_train)\n",
    "    lr_score.append(lr.score(X_test, y_test)) \n",
    "        \n",
    "    svm.fit(X_train, y_train)\n",
    "    svm_score.append(svm.score(X_test, y_test))\n",
    "     \n",
    "    knn.fit(X_train, y_train)\n",
    "    knn_score.append(svm.score(X_test, y_test))\n"
   ]
  },
  {
   "cell_type": "markdown",
   "metadata": {
    "papermill": {
     "duration": 0.00866,
     "end_time": "2021-03-07T14:31:23.718495",
     "exception": false,
     "start_time": "2021-03-07T14:31:23.709835",
     "status": "completed"
    },
    "tags": []
   },
   "source": [
    "**Prints accuracy of all three models**"
   ]
  },
  {
   "cell_type": "code",
   "execution_count": 6,
   "metadata": {
    "execution": {
     "iopub.execute_input": "2021-03-07T14:31:23.741689Z",
     "iopub.status.busy": "2021-03-07T14:31:23.741011Z",
     "iopub.status.idle": "2021-03-07T14:31:23.745004Z",
     "shell.execute_reply": "2021-03-07T14:31:23.745520Z"
    },
    "papermill": {
     "duration": 0.018321,
     "end_time": "2021-03-07T14:31:23.745739",
     "exception": false,
     "start_time": "2021-03-07T14:31:23.727418",
     "status": "completed"
    },
    "tags": []
   },
   "outputs": [
    {
     "name": "stdout",
     "output_type": "stream",
     "text": [
      "Logistic Regression    : [0.98, 0.96, 0.98]\n",
      "Support Vector Machine : [0.96, 0.98, 0.94]\n",
      "K Nearest Neighbor     : [0.96, 0.98, 0.94]\n"
     ]
    }
   ],
   "source": [
    "print(\"Logistic Regression    :\", lr_score)\n",
    "print(\"Support Vector Machine :\", svm_score)\n",
    "print(\"K Nearest Neighbor     :\", knn_score)"
   ]
  },
  {
   "cell_type": "markdown",
   "metadata": {
    "papermill": {
     "duration": 0.008818,
     "end_time": "2021-03-07T14:31:23.764262",
     "exception": false,
     "start_time": "2021-03-07T14:31:23.755444",
     "status": "completed"
    },
    "tags": []
   },
   "source": [
    "**Finds accuracy for all three model using cross_val_score**"
   ]
  },
  {
   "cell_type": "code",
   "execution_count": 7,
   "metadata": {
    "execution": {
     "iopub.execute_input": "2021-03-07T14:31:23.789460Z",
     "iopub.status.busy": "2021-03-07T14:31:23.788142Z",
     "iopub.status.idle": "2021-03-07T14:31:23.892157Z",
     "shell.execute_reply": "2021-03-07T14:31:23.891190Z"
    },
    "papermill": {
     "duration": 0.118817,
     "end_time": "2021-03-07T14:31:23.892376",
     "exception": false,
     "start_time": "2021-03-07T14:31:23.773559",
     "status": "completed"
    },
    "tags": []
   },
   "outputs": [
    {
     "name": "stdout",
     "output_type": "stream",
     "text": [
      "Logistic Regression    : [0.98 0.96 0.98]\n",
      "Support Vector Machine : [0.96 0.98 0.94]\n",
      "K Nearest Neighbor     : [0.98 0.98 0.98]\n"
     ]
    }
   ],
   "source": [
    "from sklearn.model_selection import cross_val_score\n",
    "print(\"Logistic Regression    :\", cross_val_score(LogisticRegression(max_iter=10000), iris.data, iris.target, cv=3))\n",
    "print(\"Support Vector Machine :\", cross_val_score(SVC(), iris.data, iris.target, cv=3))\n",
    "print(\"K Nearest Neighbor     :\", cross_val_score(KNeighborsClassifier(), iris.data, iris.target, cv=3))"
   ]
  }
 ],
 "metadata": {
  "kernelspec": {
   "display_name": "Python 3",
   "language": "python",
   "name": "python3"
  },
  "language_info": {
   "codemirror_mode": {
    "name": "ipython",
    "version": 3
   },
   "file_extension": ".py",
   "mimetype": "text/x-python",
   "name": "python",
   "nbconvert_exporter": "python",
   "pygments_lexer": "ipython3",
   "version": "3.7.4"
  },
  "papermill": {
   "default_parameters": {},
   "duration": 8.153091,
   "end_time": "2021-03-07T14:31:24.512581",
   "environment_variables": {},
   "exception": null,
   "input_path": "__notebook__.ipynb",
   "output_path": "__notebook__.ipynb",
   "parameters": {},
   "start_time": "2021-03-07T14:31:16.359490",
   "version": "2.2.2"
  }
 },
 "nbformat": 4,
 "nbformat_minor": 4
}
