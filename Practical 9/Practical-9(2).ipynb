{
 "cells": [
  {
   "cell_type": "markdown",
   "id": "greatest-granny",
   "metadata": {
    "papermill": {
     "duration": 0.013928,
     "end_time": "2021-04-04T15:45:33.857389",
     "exception": false,
     "start_time": "2021-04-04T15:45:33.843461",
     "status": "completed"
    },
    "tags": []
   },
   "source": [
    "**Import all required modules**"
   ]
  },
  {
   "cell_type": "code",
   "execution_count": 1,
   "id": "animated-insured",
   "metadata": {
    "execution": {
     "iopub.execute_input": "2021-04-04T15:45:33.889953Z",
     "iopub.status.busy": "2021-04-04T15:45:33.888289Z",
     "iopub.status.idle": "2021-04-04T15:45:35.245401Z",
     "shell.execute_reply": "2021-04-04T15:45:35.244777Z"
    },
    "papermill": {
     "duration": 1.374771,
     "end_time": "2021-04-04T15:45:35.245561",
     "exception": false,
     "start_time": "2021-04-04T15:45:33.870790",
     "status": "completed"
    },
    "tags": []
   },
   "outputs": [],
   "source": [
    "from sklearn.cluster import KMeans\n",
    "import pandas as pd\n",
    "from sklearn.preprocessing import MinMaxScaler\n",
    "from matplotlib import pyplot as plt\n",
    "%matplotlib inline"
   ]
  },
  {
   "cell_type": "markdown",
   "id": "spare-gender",
   "metadata": {
    "papermill": {
     "duration": 0.012848,
     "end_time": "2021-04-04T15:45:35.271824",
     "exception": false,
     "start_time": "2021-04-04T15:45:35.258976",
     "status": "completed"
    },
    "tags": []
   },
   "source": [
    "**Read data from income.csv file and store it in dataframe df**"
   ]
  },
  {
   "cell_type": "code",
   "execution_count": 2,
   "id": "funky-protocol",
   "metadata": {
    "execution": {
     "iopub.execute_input": "2021-04-04T15:45:35.303151Z",
     "iopub.status.busy": "2021-04-04T15:45:35.302573Z",
     "iopub.status.idle": "2021-04-04T15:45:35.337538Z",
     "shell.execute_reply": "2021-04-04T15:45:35.338087Z"
    },
    "papermill": {
     "duration": 0.053289,
     "end_time": "2021-04-04T15:45:35.338257",
     "exception": false,
     "start_time": "2021-04-04T15:45:35.284968",
     "status": "completed"
    },
    "tags": []
   },
   "outputs": [
    {
     "data": {
      "text/html": [
       "<div>\n",
       "<style scoped>\n",
       "    .dataframe tbody tr th:only-of-type {\n",
       "        vertical-align: middle;\n",
       "    }\n",
       "\n",
       "    .dataframe tbody tr th {\n",
       "        vertical-align: top;\n",
       "    }\n",
       "\n",
       "    .dataframe thead th {\n",
       "        text-align: right;\n",
       "    }\n",
       "</style>\n",
       "<table border=\"1\" class=\"dataframe\">\n",
       "  <thead>\n",
       "    <tr style=\"text-align: right;\">\n",
       "      <th></th>\n",
       "      <th>Name</th>\n",
       "      <th>Age</th>\n",
       "      <th>Income($)</th>\n",
       "    </tr>\n",
       "  </thead>\n",
       "  <tbody>\n",
       "    <tr>\n",
       "      <th>0</th>\n",
       "      <td>Rob</td>\n",
       "      <td>27</td>\n",
       "      <td>70000</td>\n",
       "    </tr>\n",
       "    <tr>\n",
       "      <th>1</th>\n",
       "      <td>Michael</td>\n",
       "      <td>29</td>\n",
       "      <td>90000</td>\n",
       "    </tr>\n",
       "    <tr>\n",
       "      <th>2</th>\n",
       "      <td>Mohan</td>\n",
       "      <td>29</td>\n",
       "      <td>61000</td>\n",
       "    </tr>\n",
       "    <tr>\n",
       "      <th>3</th>\n",
       "      <td>Ismail</td>\n",
       "      <td>28</td>\n",
       "      <td>60000</td>\n",
       "    </tr>\n",
       "    <tr>\n",
       "      <th>4</th>\n",
       "      <td>Kory</td>\n",
       "      <td>42</td>\n",
       "      <td>150000</td>\n",
       "    </tr>\n",
       "  </tbody>\n",
       "</table>\n",
       "</div>"
      ],
      "text/plain": [
       "      Name  Age  Income($)\n",
       "0      Rob   27      70000\n",
       "1  Michael   29      90000\n",
       "2    Mohan   29      61000\n",
       "3   Ismail   28      60000\n",
       "4     Kory   42     150000"
      ]
     },
     "execution_count": 2,
     "metadata": {},
     "output_type": "execute_result"
    }
   ],
   "source": [
    "df = pd.read_csv(\"../input/income/income.csv\")\n",
    "df.head()"
   ]
  },
  {
   "cell_type": "markdown",
   "id": "cubic-candy",
   "metadata": {
    "papermill": {
     "duration": 0.013476,
     "end_time": "2021-04-04T15:45:35.365613",
     "exception": false,
     "start_time": "2021-04-04T15:45:35.352137",
     "status": "completed"
    },
    "tags": []
   },
   "source": [
    "**Plots Scatter plot of Age and Income**"
   ]
  },
  {
   "cell_type": "code",
   "execution_count": 3,
   "id": "vocational-diversity",
   "metadata": {
    "execution": {
     "iopub.execute_input": "2021-04-04T15:45:35.399712Z",
     "iopub.status.busy": "2021-04-04T15:45:35.398837Z",
     "iopub.status.idle": "2021-04-04T15:45:35.580282Z",
     "shell.execute_reply": "2021-04-04T15:45:35.579847Z"
    },
    "papermill": {
     "duration": 0.19934,
     "end_time": "2021-04-04T15:45:35.580411",
     "exception": false,
     "start_time": "2021-04-04T15:45:35.381071",
     "status": "completed"
    },
    "tags": []
   },
   "outputs": [
    {
     "data": {
      "text/plain": [
       "Text(0, 0.5, 'Income($)')"
      ]
     },
     "execution_count": 3,
     "metadata": {},
     "output_type": "execute_result"
    },
    {
     "data": {
      "image/png": "[encoded data removed]",
      "text/plain": [
       "<Figure size 432x288 with 1 Axes>"
      ]
     },
     "metadata": {
      "needs_background": "light"
     },
     "output_type": "display_data"
    }
   ],
   "source": [
    "plt.scatter(df.Age, df['Income($)'])\n",
    "plt.xlabel('Age')\n",
    "plt.ylabel('Income($)')"
   ]
  },
  {
   "cell_type": "markdown",
   "id": "conservative-tragedy",
   "metadata": {
    "papermill": {
     "duration": 0.014012,
     "end_time": "2021-04-04T15:45:35.608842",
     "exception": false,
     "start_time": "2021-04-04T15:45:35.594830",
     "status": "completed"
    },
    "tags": []
   },
   "source": [
    "**Trains and Predicts result using KMeans**"
   ]
  },
  {
   "cell_type": "code",
   "execution_count": 4,
   "id": "future-works",
   "metadata": {
    "execution": {
     "iopub.execute_input": "2021-04-04T15:45:35.645811Z",
     "iopub.status.busy": "2021-04-04T15:45:35.644875Z",
     "iopub.status.idle": "2021-04-04T15:45:35.672796Z",
     "shell.execute_reply": "2021-04-04T15:45:35.672327Z"
    },
    "papermill": {
     "duration": 0.049618,
     "end_time": "2021-04-04T15:45:35.672936",
     "exception": false,
     "start_time": "2021-04-04T15:45:35.623318",
     "status": "completed"
    },
    "tags": []
   },
   "outputs": [
    {
     "data": {
      "text/plain": [
       "array([0, 0, 2, 2, 1, 1, 1, 1, 1, 1, 1, 2, 2, 2, 2, 2, 2, 2, 2, 0, 0, 2],\n",
       "      dtype=int32)"
      ]
     },
     "execution_count": 4,
     "metadata": {},
     "output_type": "execute_result"
    }
   ],
   "source": [
    "km = KMeans(n_clusters=3)\n",
    "y_pred = km.fit_predict(df[['Age', 'Income($)']])\n",
    "y_pred"
   ]
  },
  {
   "cell_type": "markdown",
   "id": "partial-theory",
   "metadata": {
    "papermill": {
     "duration": 0.014644,
     "end_time": "2021-04-04T15:45:35.702153",
     "exception": false,
     "start_time": "2021-04-04T15:45:35.687509",
     "status": "completed"
    },
    "tags": []
   },
   "source": [
    "**Creates new column cluster and store predicted result in it**"
   ]
  },
  {
   "cell_type": "code",
   "execution_count": 5,
   "id": "first-vatican",
   "metadata": {
    "execution": {
     "iopub.execute_input": "2021-04-04T15:45:35.743153Z",
     "iopub.status.busy": "2021-04-04T15:45:35.740773Z",
     "iopub.status.idle": "2021-04-04T15:45:35.746852Z",
     "shell.execute_reply": "2021-04-04T15:45:35.746274Z"
    },
    "papermill": {
     "duration": 0.030187,
     "end_time": "2021-04-04T15:45:35.746983",
     "exception": false,
     "start_time": "2021-04-04T15:45:35.716796",
     "status": "completed"
    },
    "tags": []
   },
   "outputs": [
    {
     "data": {
      "text/html": [
       "<div>\n",
       "<style scoped>\n",
       "    .dataframe tbody tr th:only-of-type {\n",
       "        vertical-align: middle;\n",
       "    }\n",
       "\n",
       "    .dataframe tbody tr th {\n",
       "        vertical-align: top;\n",
       "    }\n",
       "\n",
       "    .dataframe thead th {\n",
       "        text-align: right;\n",
       "    }\n",
       "</style>\n",
       "<table border=\"1\" class=\"dataframe\">\n",
       "  <thead>\n",
       "    <tr style=\"text-align: right;\">\n",
       "      <th></th>\n",
       "      <th>Name</th>\n",
       "      <th>Age</th>\n",
       "      <th>Income($)</th>\n",
       "      <th>cluster</th>\n",
       "    </tr>\n",
       "  </thead>\n",
       "  <tbody>\n",
       "    <tr>\n",
       "      <th>0</th>\n",
       "      <td>Rob</td>\n",
       "      <td>27</td>\n",
       "      <td>70000</td>\n",
       "      <td>0</td>\n",
       "    </tr>\n",
       "    <tr>\n",
       "      <th>1</th>\n",
       "      <td>Michael</td>\n",
       "      <td>29</td>\n",
       "      <td>90000</td>\n",
       "      <td>0</td>\n",
       "    </tr>\n",
       "    <tr>\n",
       "      <th>2</th>\n",
       "      <td>Mohan</td>\n",
       "      <td>29</td>\n",
       "      <td>61000</td>\n",
       "      <td>2</td>\n",
       "    </tr>\n",
       "    <tr>\n",
       "      <th>3</th>\n",
       "      <td>Ismail</td>\n",
       "      <td>28</td>\n",
       "      <td>60000</td>\n",
       "      <td>2</td>\n",
       "    </tr>\n",
       "    <tr>\n",
       "      <th>4</th>\n",
       "      <td>Kory</td>\n",
       "      <td>42</td>\n",
       "      <td>150000</td>\n",
       "      <td>1</td>\n",
       "    </tr>\n",
       "  </tbody>\n",
       "</table>\n",
       "</div>"
      ],
      "text/plain": [
       "      Name  Age  Income($)  cluster\n",
       "0      Rob   27      70000        0\n",
       "1  Michael   29      90000        0\n",
       "2    Mohan   29      61000        2\n",
       "3   Ismail   28      60000        2\n",
       "4     Kory   42     150000        1"
      ]
     },
     "execution_count": 5,
     "metadata": {},
     "output_type": "execute_result"
    }
   ],
   "source": [
    "df['cluster'] = y_pred\n",
    "df.head()"
   ]
  },
  {
   "cell_type": "markdown",
   "id": "knowing-skiing",
   "metadata": {
    "papermill": {
     "duration": 0.015023,
     "end_time": "2021-04-04T15:45:35.777315",
     "exception": false,
     "start_time": "2021-04-04T15:45:35.762292",
     "status": "completed"
    },
    "tags": []
   },
   "source": [
    "**Prints coordinates of cluster centers**"
   ]
  },
  {
   "cell_type": "code",
   "execution_count": 6,
   "id": "conscious-cinema",
   "metadata": {
    "execution": {
     "iopub.execute_input": "2021-04-04T15:45:35.812860Z",
     "iopub.status.busy": "2021-04-04T15:45:35.812265Z",
     "iopub.status.idle": "2021-04-04T15:45:35.816149Z",
     "shell.execute_reply": "2021-04-04T15:45:35.815660Z"
    },
    "papermill": {
     "duration": 0.023607,
     "end_time": "2021-04-04T15:45:35.816278",
     "exception": false,
     "start_time": "2021-04-04T15:45:35.792671",
     "status": "completed"
    },
    "tags": []
   },
   "outputs": [
    {
     "data": {
      "text/plain": [
       "array([[3.40000000e+01, 8.05000000e+04],\n",
       "       [3.82857143e+01, 1.50000000e+05],\n",
       "       [3.29090909e+01, 5.61363636e+04]])"
      ]
     },
     "execution_count": 6,
     "metadata": {},
     "output_type": "execute_result"
    }
   ],
   "source": [
    "km.cluster_centers_"
   ]
  },
  {
   "cell_type": "markdown",
   "id": "bronze-australia",
   "metadata": {
    "papermill": {
     "duration": 0.015253,
     "end_time": "2021-04-04T15:45:35.847061",
     "exception": false,
     "start_time": "2021-04-04T15:45:35.831808",
     "status": "completed"
    },
    "tags": []
   },
   "source": [
    "**Add new column color in dataframe**"
   ]
  },
  {
   "cell_type": "code",
   "execution_count": 7,
   "id": "voluntary-tracker",
   "metadata": {
    "execution": {
     "iopub.execute_input": "2021-04-04T15:45:35.890781Z",
     "iopub.status.busy": "2021-04-04T15:45:35.889847Z",
     "iopub.status.idle": "2021-04-04T15:45:35.893640Z",
     "shell.execute_reply": "2021-04-04T15:45:35.893104Z"
    },
    "papermill": {
     "duration": 0.030392,
     "end_time": "2021-04-04T15:45:35.893781",
     "exception": false,
     "start_time": "2021-04-04T15:45:35.863389",
     "status": "completed"
    },
    "tags": []
   },
   "outputs": [
    {
     "data": {
      "text/html": [
       "<div>\n",
       "<style scoped>\n",
       "    .dataframe tbody tr th:only-of-type {\n",
       "        vertical-align: middle;\n",
       "    }\n",
       "\n",
       "    .dataframe tbody tr th {\n",
       "        vertical-align: top;\n",
       "    }\n",
       "\n",
       "    .dataframe thead th {\n",
       "        text-align: right;\n",
       "    }\n",
       "</style>\n",
       "<table border=\"1\" class=\"dataframe\">\n",
       "  <thead>\n",
       "    <tr style=\"text-align: right;\">\n",
       "      <th></th>\n",
       "      <th>Name</th>\n",
       "      <th>Age</th>\n",
       "      <th>Income($)</th>\n",
       "      <th>cluster</th>\n",
       "      <th>color</th>\n",
       "    </tr>\n",
       "  </thead>\n",
       "  <tbody>\n",
       "    <tr>\n",
       "      <th>0</th>\n",
       "      <td>Rob</td>\n",
       "      <td>27</td>\n",
       "      <td>70000</td>\n",
       "      <td>0</td>\n",
       "      <td>r</td>\n",
       "    </tr>\n",
       "    <tr>\n",
       "      <th>1</th>\n",
       "      <td>Michael</td>\n",
       "      <td>29</td>\n",
       "      <td>90000</td>\n",
       "      <td>0</td>\n",
       "      <td>r</td>\n",
       "    </tr>\n",
       "    <tr>\n",
       "      <th>2</th>\n",
       "      <td>Mohan</td>\n",
       "      <td>29</td>\n",
       "      <td>61000</td>\n",
       "      <td>2</td>\n",
       "      <td>b</td>\n",
       "    </tr>\n",
       "    <tr>\n",
       "      <th>3</th>\n",
       "      <td>Ismail</td>\n",
       "      <td>28</td>\n",
       "      <td>60000</td>\n",
       "      <td>2</td>\n",
       "      <td>b</td>\n",
       "    </tr>\n",
       "    <tr>\n",
       "      <th>4</th>\n",
       "      <td>Kory</td>\n",
       "      <td>42</td>\n",
       "      <td>150000</td>\n",
       "      <td>1</td>\n",
       "      <td>g</td>\n",
       "    </tr>\n",
       "  </tbody>\n",
       "</table>\n",
       "</div>"
      ],
      "text/plain": [
       "      Name  Age  Income($)  cluster color\n",
       "0      Rob   27      70000        0     r\n",
       "1  Michael   29      90000        0     r\n",
       "2    Mohan   29      61000        2     b\n",
       "3   Ismail   28      60000        2     b\n",
       "4     Kory   42     150000        1     g"
      ]
     },
     "execution_count": 7,
     "metadata": {},
     "output_type": "execute_result"
    }
   ],
   "source": [
    "d_color = {0:'r', 1:'g', 2:'b'}\n",
    "df['color'] = df['cluster'].apply(lambda x: d_color[x])\n",
    "df.head()"
   ]
  },
  {
   "cell_type": "markdown",
   "id": "hispanic-quebec",
   "metadata": {
    "papermill": {
     "duration": 0.015723,
     "end_time": "2021-04-04T15:45:35.925532",
     "exception": false,
     "start_time": "2021-04-04T15:45:35.909809",
     "status": "completed"
    },
    "tags": []
   },
   "source": [
    "**Plots Scatter plot of Age vs Income and plots centroid of clusters**"
   ]
  },
  {
   "cell_type": "code",
   "execution_count": 8,
   "id": "specific-console",
   "metadata": {
    "execution": {
     "iopub.execute_input": "2021-04-04T15:45:35.988505Z",
     "iopub.status.busy": "2021-04-04T15:45:35.972824Z",
     "iopub.status.idle": "2021-04-04T15:45:36.115076Z",
     "shell.execute_reply": "2021-04-04T15:45:36.114462Z"
    },
    "papermill": {
     "duration": 0.173604,
     "end_time": "2021-04-04T15:45:36.115209",
     "exception": false,
     "start_time": "2021-04-04T15:45:35.941605",
     "status": "completed"
    },
    "tags": []
   },
   "outputs": [
    {
     "data": {
      "text/plain": [
       "<matplotlib.legend.Legend at 0x7f2de214a710>"
      ]
     },
     "execution_count": 8,
     "metadata": {},
     "output_type": "execute_result"
    },
    {
     "data": {
      "image/png": "[encoded data removed]",
      "text/plain": [
       "<Figure size 432x288 with 1 Axes>"
      ]
     },
     "metadata": {
      "needs_background": "light"
     },
     "output_type": "display_data"
    }
   ],
   "source": [
    "plt.scatter(df.iloc[:, 1], df.iloc[:, 2], c=df.color)\n",
    "plt.scatter(km.cluster_centers_[:, 0], km.cluster_centers_[:, 1], color='purple', marker='*', label='centroid')\n",
    "plt.xlabel(\"Age\")\n",
    "plt.ylabel(\"Income($)\")\n",
    "plt.legend()"
   ]
  },
  {
   "cell_type": "markdown",
   "id": "mighty-senior",
   "metadata": {
    "papermill": {
     "duration": 0.017509,
     "end_time": "2021-04-04T15:45:36.150190",
     "exception": false,
     "start_time": "2021-04-04T15:45:36.132681",
     "status": "completed"
    },
    "tags": []
   },
   "source": [
    "**Standardize data in Age and Income column using MinMaxScaler**"
   ]
  },
  {
   "cell_type": "code",
   "execution_count": 9,
   "id": "unnecessary-minutes",
   "metadata": {
    "execution": {
     "iopub.execute_input": "2021-04-04T15:45:36.207639Z",
     "iopub.status.busy": "2021-04-04T15:45:36.206624Z",
     "iopub.status.idle": "2021-04-04T15:45:36.211100Z",
     "shell.execute_reply": "2021-04-04T15:45:36.210607Z"
    },
    "papermill": {
     "duration": 0.043567,
     "end_time": "2021-04-04T15:45:36.211230",
     "exception": false,
     "start_time": "2021-04-04T15:45:36.167663",
     "status": "completed"
    },
    "tags": []
   },
   "outputs": [
    {
     "data": {
      "text/html": [
       "<div>\n",
       "<style scoped>\n",
       "    .dataframe tbody tr th:only-of-type {\n",
       "        vertical-align: middle;\n",
       "    }\n",
       "\n",
       "    .dataframe tbody tr th {\n",
       "        vertical-align: top;\n",
       "    }\n",
       "\n",
       "    .dataframe thead th {\n",
       "        text-align: right;\n",
       "    }\n",
       "</style>\n",
       "<table border=\"1\" class=\"dataframe\">\n",
       "  <thead>\n",
       "    <tr style=\"text-align: right;\">\n",
       "      <th></th>\n",
       "      <th>Name</th>\n",
       "      <th>Age</th>\n",
       "      <th>Income($)</th>\n",
       "      <th>cluster</th>\n",
       "      <th>color</th>\n",
       "    </tr>\n",
       "  </thead>\n",
       "  <tbody>\n",
       "    <tr>\n",
       "      <th>0</th>\n",
       "      <td>Rob</td>\n",
       "      <td>0.058824</td>\n",
       "      <td>0.213675</td>\n",
       "      <td>0</td>\n",
       "      <td>r</td>\n",
       "    </tr>\n",
       "    <tr>\n",
       "      <th>1</th>\n",
       "      <td>Michael</td>\n",
       "      <td>0.176471</td>\n",
       "      <td>0.384615</td>\n",
       "      <td>0</td>\n",
       "      <td>r</td>\n",
       "    </tr>\n",
       "    <tr>\n",
       "      <th>2</th>\n",
       "      <td>Mohan</td>\n",
       "      <td>0.176471</td>\n",
       "      <td>0.136752</td>\n",
       "      <td>2</td>\n",
       "      <td>b</td>\n",
       "    </tr>\n",
       "    <tr>\n",
       "      <th>3</th>\n",
       "      <td>Ismail</td>\n",
       "      <td>0.117647</td>\n",
       "      <td>0.128205</td>\n",
       "      <td>2</td>\n",
       "      <td>b</td>\n",
       "    </tr>\n",
       "    <tr>\n",
       "      <th>4</th>\n",
       "      <td>Kory</td>\n",
       "      <td>0.941176</td>\n",
       "      <td>0.897436</td>\n",
       "      <td>1</td>\n",
       "      <td>g</td>\n",
       "    </tr>\n",
       "  </tbody>\n",
       "</table>\n",
       "</div>"
      ],
      "text/plain": [
       "      Name       Age  Income($)  cluster color\n",
       "0      Rob  0.058824   0.213675        0     r\n",
       "1  Michael  0.176471   0.384615        0     r\n",
       "2    Mohan  0.176471   0.136752        2     b\n",
       "3   Ismail  0.117647   0.128205        2     b\n",
       "4     Kory  0.941176   0.897436        1     g"
      ]
     },
     "execution_count": 9,
     "metadata": {},
     "output_type": "execute_result"
    }
   ],
   "source": [
    "sc = MinMaxScaler()\n",
    "\n",
    "sc.fit(df[['Income($)']])\n",
    "df['Income($)'] = sc.transform(df[['Income($)']])\n",
    "\n",
    "sc.fit(df[['Age']])\n",
    "df['Age'] = sc.transform(df[['Age']])\n",
    "\n",
    "df.head()"
   ]
  },
  {
   "cell_type": "markdown",
   "id": "unable-commission",
   "metadata": {
    "papermill": {
     "duration": 0.017247,
     "end_time": "2021-04-04T15:45:36.246181",
     "exception": false,
     "start_time": "2021-04-04T15:45:36.228934",
     "status": "completed"
    },
    "tags": []
   },
   "source": [
    "**Trains and Predicts result using standardize data**"
   ]
  },
  {
   "cell_type": "code",
   "execution_count": 10,
   "id": "treated-cedar",
   "metadata": {
    "execution": {
     "iopub.execute_input": "2021-04-04T15:45:36.290930Z",
     "iopub.status.busy": "2021-04-04T15:45:36.288694Z",
     "iopub.status.idle": "2021-04-04T15:45:36.307840Z",
     "shell.execute_reply": "2021-04-04T15:45:36.307257Z"
    },
    "papermill": {
     "duration": 0.044187,
     "end_time": "2021-04-04T15:45:36.307983",
     "exception": false,
     "start_time": "2021-04-04T15:45:36.263796",
     "status": "completed"
    },
    "tags": []
   },
   "outputs": [
    {
     "data": {
      "text/plain": [
       "array([0, 0, 0, 0, 1, 1, 1, 1, 1, 1, 1, 0, 0, 0, 0, 0, 2, 2, 2, 2, 2, 2],\n",
       "      dtype=int32)"
      ]
     },
     "execution_count": 10,
     "metadata": {},
     "output_type": "execute_result"
    }
   ],
   "source": [
    "km = KMeans(n_clusters=3)\n",
    "y_pred = km.fit_predict(df[['Age', 'Income($)']])\n",
    "y_pred"
   ]
  },
  {
   "cell_type": "markdown",
   "id": "solved-wrong",
   "metadata": {
    "papermill": {
     "duration": 0.017691,
     "end_time": "2021-04-04T15:45:36.343834",
     "exception": false,
     "start_time": "2021-04-04T15:45:36.326143",
     "status": "completed"
    },
    "tags": []
   },
   "source": [
    "**Updates result in cluster column**"
   ]
  },
  {
   "cell_type": "code",
   "execution_count": 11,
   "id": "cosmetic-cotton",
   "metadata": {
    "execution": {
     "iopub.execute_input": "2021-04-04T15:45:36.390025Z",
     "iopub.status.busy": "2021-04-04T15:45:36.389111Z",
     "iopub.status.idle": "2021-04-04T15:45:36.392642Z",
     "shell.execute_reply": "2021-04-04T15:45:36.392220Z"
    },
    "papermill": {
     "duration": 0.031132,
     "end_time": "2021-04-04T15:45:36.392784",
     "exception": false,
     "start_time": "2021-04-04T15:45:36.361652",
     "status": "completed"
    },
    "tags": []
   },
   "outputs": [
    {
     "data": {
      "text/html": [
       "<div>\n",
       "<style scoped>\n",
       "    .dataframe tbody tr th:only-of-type {\n",
       "        vertical-align: middle;\n",
       "    }\n",
       "\n",
       "    .dataframe tbody tr th {\n",
       "        vertical-align: top;\n",
       "    }\n",
       "\n",
       "    .dataframe thead th {\n",
       "        text-align: right;\n",
       "    }\n",
       "</style>\n",
       "<table border=\"1\" class=\"dataframe\">\n",
       "  <thead>\n",
       "    <tr style=\"text-align: right;\">\n",
       "      <th></th>\n",
       "      <th>Name</th>\n",
       "      <th>Age</th>\n",
       "      <th>Income($)</th>\n",
       "      <th>cluster</th>\n",
       "      <th>color</th>\n",
       "    </tr>\n",
       "  </thead>\n",
       "  <tbody>\n",
       "    <tr>\n",
       "      <th>0</th>\n",
       "      <td>Rob</td>\n",
       "      <td>0.058824</td>\n",
       "      <td>0.213675</td>\n",
       "      <td>0</td>\n",
       "      <td>r</td>\n",
       "    </tr>\n",
       "    <tr>\n",
       "      <th>1</th>\n",
       "      <td>Michael</td>\n",
       "      <td>0.176471</td>\n",
       "      <td>0.384615</td>\n",
       "      <td>0</td>\n",
       "      <td>r</td>\n",
       "    </tr>\n",
       "    <tr>\n",
       "      <th>2</th>\n",
       "      <td>Mohan</td>\n",
       "      <td>0.176471</td>\n",
       "      <td>0.136752</td>\n",
       "      <td>0</td>\n",
       "      <td>b</td>\n",
       "    </tr>\n",
       "    <tr>\n",
       "      <th>3</th>\n",
       "      <td>Ismail</td>\n",
       "      <td>0.117647</td>\n",
       "      <td>0.128205</td>\n",
       "      <td>0</td>\n",
       "      <td>b</td>\n",
       "    </tr>\n",
       "    <tr>\n",
       "      <th>4</th>\n",
       "      <td>Kory</td>\n",
       "      <td>0.941176</td>\n",
       "      <td>0.897436</td>\n",
       "      <td>1</td>\n",
       "      <td>g</td>\n",
       "    </tr>\n",
       "  </tbody>\n",
       "</table>\n",
       "</div>"
      ],
      "text/plain": [
       "      Name       Age  Income($)  cluster color\n",
       "0      Rob  0.058824   0.213675        0     r\n",
       "1  Michael  0.176471   0.384615        0     r\n",
       "2    Mohan  0.176471   0.136752        0     b\n",
       "3   Ismail  0.117647   0.128205        0     b\n",
       "4     Kory  0.941176   0.897436        1     g"
      ]
     },
     "execution_count": 11,
     "metadata": {},
     "output_type": "execute_result"
    }
   ],
   "source": [
    "df['cluster'] = y_pred\n",
    "df.head()"
   ]
  },
  {
   "cell_type": "markdown",
   "id": "integral-dictionary",
   "metadata": {
    "papermill": {
     "duration": 0.018223,
     "end_time": "2021-04-04T15:45:36.429289",
     "exception": false,
     "start_time": "2021-04-04T15:45:36.411066",
     "status": "completed"
    },
    "tags": []
   },
   "source": [
    "**Prints coordinates of updated cluster centers**"
   ]
  },
  {
   "cell_type": "code",
   "execution_count": 12,
   "id": "celtic-dominican",
   "metadata": {
    "execution": {
     "iopub.execute_input": "2021-04-04T15:45:36.470708Z",
     "iopub.status.busy": "2021-04-04T15:45:36.470166Z",
     "iopub.status.idle": "2021-04-04T15:45:36.473772Z",
     "shell.execute_reply": "2021-04-04T15:45:36.473297Z"
    },
    "papermill": {
     "duration": 0.026271,
     "end_time": "2021-04-04T15:45:36.473896",
     "exception": false,
     "start_time": "2021-04-04T15:45:36.447625",
     "status": "completed"
    },
    "tags": []
   },
   "outputs": [
    {
     "data": {
      "text/plain": [
       "array([[0.1372549 , 0.11633428],\n",
       "       [0.72268908, 0.8974359 ],\n",
       "       [0.85294118, 0.2022792 ]])"
      ]
     },
     "execution_count": 12,
     "metadata": {},
     "output_type": "execute_result"
    }
   ],
   "source": [
    "km.cluster_centers_"
   ]
  },
  {
   "cell_type": "markdown",
   "id": "norwegian-profit",
   "metadata": {
    "papermill": {
     "duration": 0.018287,
     "end_time": "2021-04-04T15:45:36.510942",
     "exception": false,
     "start_time": "2021-04-04T15:45:36.492655",
     "status": "completed"
    },
    "tags": []
   },
   "source": [
    "**Updates data in color column**"
   ]
  },
  {
   "cell_type": "code",
   "execution_count": 13,
   "id": "neural-universal",
   "metadata": {
    "execution": {
     "iopub.execute_input": "2021-04-04T15:45:36.559664Z",
     "iopub.status.busy": "2021-04-04T15:45:36.558775Z",
     "iopub.status.idle": "2021-04-04T15:45:36.563083Z",
     "shell.execute_reply": "2021-04-04T15:45:36.562396Z"
    },
    "papermill": {
     "duration": 0.033591,
     "end_time": "2021-04-04T15:45:36.563210",
     "exception": false,
     "start_time": "2021-04-04T15:45:36.529619",
     "status": "completed"
    },
    "tags": []
   },
   "outputs": [
    {
     "data": {
      "text/html": [
       "<div>\n",
       "<style scoped>\n",
       "    .dataframe tbody tr th:only-of-type {\n",
       "        vertical-align: middle;\n",
       "    }\n",
       "\n",
       "    .dataframe tbody tr th {\n",
       "        vertical-align: top;\n",
       "    }\n",
       "\n",
       "    .dataframe thead th {\n",
       "        text-align: right;\n",
       "    }\n",
       "</style>\n",
       "<table border=\"1\" class=\"dataframe\">\n",
       "  <thead>\n",
       "    <tr style=\"text-align: right;\">\n",
       "      <th></th>\n",
       "      <th>Name</th>\n",
       "      <th>Age</th>\n",
       "      <th>Income($)</th>\n",
       "      <th>cluster</th>\n",
       "      <th>color</th>\n",
       "    </tr>\n",
       "  </thead>\n",
       "  <tbody>\n",
       "    <tr>\n",
       "      <th>0</th>\n",
       "      <td>Rob</td>\n",
       "      <td>0.058824</td>\n",
       "      <td>0.213675</td>\n",
       "      <td>0</td>\n",
       "      <td>r</td>\n",
       "    </tr>\n",
       "    <tr>\n",
       "      <th>1</th>\n",
       "      <td>Michael</td>\n",
       "      <td>0.176471</td>\n",
       "      <td>0.384615</td>\n",
       "      <td>0</td>\n",
       "      <td>r</td>\n",
       "    </tr>\n",
       "    <tr>\n",
       "      <th>2</th>\n",
       "      <td>Mohan</td>\n",
       "      <td>0.176471</td>\n",
       "      <td>0.136752</td>\n",
       "      <td>0</td>\n",
       "      <td>r</td>\n",
       "    </tr>\n",
       "    <tr>\n",
       "      <th>3</th>\n",
       "      <td>Ismail</td>\n",
       "      <td>0.117647</td>\n",
       "      <td>0.128205</td>\n",
       "      <td>0</td>\n",
       "      <td>r</td>\n",
       "    </tr>\n",
       "    <tr>\n",
       "      <th>4</th>\n",
       "      <td>Kory</td>\n",
       "      <td>0.941176</td>\n",
       "      <td>0.897436</td>\n",
       "      <td>1</td>\n",
       "      <td>g</td>\n",
       "    </tr>\n",
       "  </tbody>\n",
       "</table>\n",
       "</div>"
      ],
      "text/plain": [
       "      Name       Age  Income($)  cluster color\n",
       "0      Rob  0.058824   0.213675        0     r\n",
       "1  Michael  0.176471   0.384615        0     r\n",
       "2    Mohan  0.176471   0.136752        0     r\n",
       "3   Ismail  0.117647   0.128205        0     r\n",
       "4     Kory  0.941176   0.897436        1     g"
      ]
     },
     "execution_count": 13,
     "metadata": {},
     "output_type": "execute_result"
    }
   ],
   "source": [
    "d_color = {0:'r', 1:'g', 2:'b'}\n",
    "df['color'] = df['cluster'].apply(lambda x: d_color[x])\n",
    "df.head()"
   ]
  },
  {
   "cell_type": "markdown",
   "id": "english-lease",
   "metadata": {
    "papermill": {
     "duration": 0.019129,
     "end_time": "2021-04-04T15:45:36.601604",
     "exception": false,
     "start_time": "2021-04-04T15:45:36.582475",
     "status": "completed"
    },
    "tags": []
   },
   "source": [
    "**Plots Scatter plot of Age vs Income and plots centroid of clusters for standardized data**"
   ]
  },
  {
   "cell_type": "code",
   "execution_count": 14,
   "id": "velvet-yacht",
   "metadata": {
    "execution": {
     "iopub.execute_input": "2021-04-04T15:45:36.671886Z",
     "iopub.status.busy": "2021-04-04T15:45:36.661003Z",
     "iopub.status.idle": "2021-04-04T15:45:36.785158Z",
     "shell.execute_reply": "2021-04-04T15:45:36.784677Z"
    },
    "papermill": {
     "duration": 0.164574,
     "end_time": "2021-04-04T15:45:36.785288",
     "exception": false,
     "start_time": "2021-04-04T15:45:36.620714",
     "status": "completed"
    },
    "tags": []
   },
   "outputs": [
    {
     "data": {
      "text/plain": [
       "<matplotlib.legend.Legend at 0x7f2de20831d0>"
      ]
     },
     "execution_count": 14,
     "metadata": {},
     "output_type": "execute_result"
    },
    {
     "data": {
      "image/png": "[encoded data removed]",
      "text/plain": [
       "<Figure size 432x288 with 1 Axes>"
      ]
     },
     "metadata": {
      "needs_background": "light"
     },
     "output_type": "display_data"
    }
   ],
   "source": [
    "plt.scatter(df.iloc[:, 1], df.iloc[:, 2], c=df.color)\n",
    "plt.scatter(km.cluster_centers_[:, 0], km.cluster_centers_[:, 1], color='purple', marker='*', label='centroid')\n",
    "plt.xlabel(\"Age\")\n",
    "plt.ylabel(\"Income($)\")\n",
    "plt.legend()"
   ]
  },
  {
   "cell_type": "markdown",
   "id": "tight-conclusion",
   "metadata": {
    "papermill": {
     "duration": 0.019927,
     "end_time": "2021-04-04T15:45:36.825923",
     "exception": false,
     "start_time": "2021-04-04T15:45:36.805996",
     "status": "completed"
    },
    "tags": []
   },
   "source": [
    "**Plots Elbow plot**"
   ]
  },
  {
   "cell_type": "code",
   "execution_count": 15,
   "id": "inappropriate-system",
   "metadata": {
    "execution": {
     "iopub.execute_input": "2021-04-04T15:45:36.875060Z",
     "iopub.status.busy": "2021-04-04T15:45:36.874160Z",
     "iopub.status.idle": "2021-04-04T15:45:37.343655Z",
     "shell.execute_reply": "2021-04-04T15:45:37.344129Z"
    },
    "papermill": {
     "duration": 0.498124,
     "end_time": "2021-04-04T15:45:37.344292",
     "exception": false,
     "start_time": "2021-04-04T15:45:36.846168",
     "status": "completed"
    },
    "tags": []
   },
   "outputs": [
    {
     "data": {
      "text/plain": [
       "[<matplotlib.lines.Line2D at 0x7f2ddffdc610>]"
      ]
     },
     "execution_count": 15,
     "metadata": {},
     "output_type": "execute_result"
    },
    {
     "data": {
      "image/png": "[encoded data removed]",
      "text/plain": [
       "<Figure size 432x288 with 1 Axes>"
      ]
     },
     "metadata": {
      "needs_background": "light"
     },
     "output_type": "display_data"
    }
   ],
   "source": [
    "sse = []\n",
    "k_rng = range(1, 10)\n",
    "for k in k_rng:\n",
    "    km = KMeans(n_clusters=k)\n",
    "    km.fit(df[['Age', 'Income($)']])\n",
    "    sse.append(km.inertia_)\n",
    "    \n",
    "plt.xlabel('K')\n",
    "plt.ylabel('Sum of squared error')\n",
    "plt.plot(k_rng, sse)"
   ]
  }
 ],
 "metadata": {
  "kernelspec": {
   "display_name": "Python 3",
   "language": "python",
   "name": "python3"
  },
  "language_info": {
   "codemirror_mode": {
    "name": "ipython",
    "version": 3
   },
   "file_extension": ".py",
   "mimetype": "text/x-python",
   "name": "python",
   "nbconvert_exporter": "python",
   "pygments_lexer": "ipython3",
   "version": "3.7.4"
  },
  "papermill": {
   "default_parameters": {},
   "duration": 9.62429,
   "end_time": "2021-04-04T15:45:38.075200",
   "environment_variables": {},
   "exception": null,
   "input_path": "__notebook__.ipynb",
   "output_path": "__notebook__.ipynb",
   "parameters": {},
   "start_time": "2021-04-04T15:45:28.450910",
   "version": "2.3.2"
  }
 },
 "nbformat": 4,
 "nbformat_minor": 5
}
