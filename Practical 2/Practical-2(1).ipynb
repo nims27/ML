{
 "cells": [
  {
   "cell_type": "markdown",
   "metadata": {
    "papermill": {
     "duration": 0.010642,
     "end_time": "2021-02-08T13:18:20.792781",
     "exception": false,
     "start_time": "2021-02-08T13:18:20.782139",
     "status": "completed"
    },
    "tags": []
   },
   "source": [
    "**Import pandas and numpy libraries**"
   ]
  },
  {
   "cell_type": "code",
   "execution_count": 1,
   "metadata": {
    "_cell_guid": "b1076dfc-b9ad-4769-8c92-a6c4dae69d19",
    "_uuid": "8f2839f25d086af736a60e9eeb907d3b93b6e0e5",
    "execution": {
     "iopub.execute_input": "2021-02-08T13:18:20.817207Z",
     "iopub.status.busy": "2021-02-08T13:18:20.816499Z",
     "iopub.status.idle": "2021-02-08T13:18:20.819603Z",
     "shell.execute_reply": "2021-02-08T13:18:20.818940Z"
    },
    "papermill": {
     "duration": 0.01728,
     "end_time": "2021-02-08T13:18:20.819808",
     "exception": false,
     "start_time": "2021-02-08T13:18:20.802528",
     "status": "completed"
    },
    "tags": []
   },
   "outputs": [],
   "source": [
    "import numpy as np\n",
    "import pandas as pd "
   ]
  },
  {
   "cell_type": "markdown",
   "metadata": {
    "papermill": {
     "duration": 0.008702,
     "end_time": "2021-02-08T13:18:20.837974",
     "exception": false,
     "start_time": "2021-02-08T13:18:20.829272",
     "status": "completed"
    },
    "tags": []
   },
   "source": [
    "**Read data from simple_li_homeprices.csv file and store it in dataframe df**"
   ]
  },
  {
   "cell_type": "code",
   "execution_count": 2,
   "metadata": {
    "execution": {
     "iopub.execute_input": "2021-02-08T13:18:20.859355Z",
     "iopub.status.busy": "2021-02-08T13:18:20.858736Z",
     "iopub.status.idle": "2021-02-08T13:18:20.910150Z",
     "shell.execute_reply": "2021-02-08T13:18:20.910642Z"
    },
    "papermill": {
     "duration": 0.063752,
     "end_time": "2021-02-08T13:18:20.910827",
     "exception": false,
     "start_time": "2021-02-08T13:18:20.847075",
     "status": "completed"
    },
    "tags": []
   },
   "outputs": [
    {
     "data": {
      "text/html": [
       "<div>\n",
       "<style scoped>\n",
       "    .dataframe tbody tr th:only-of-type {\n",
       "        vertical-align: middle;\n",
       "    }\n",
       "\n",
       "    .dataframe tbody tr th {\n",
       "        vertical-align: top;\n",
       "    }\n",
       "\n",
       "    .dataframe thead th {\n",
       "        text-align: right;\n",
       "    }\n",
       "</style>\n",
       "<table border=\"1\" class=\"dataframe\">\n",
       "  <thead>\n",
       "    <tr style=\"text-align: right;\">\n",
       "      <th></th>\n",
       "      <th>area</th>\n",
       "      <th>price</th>\n",
       "    </tr>\n",
       "  </thead>\n",
       "  <tbody>\n",
       "    <tr>\n",
       "      <th>0</th>\n",
       "      <td>2600</td>\n",
       "      <td>550000</td>\n",
       "    </tr>\n",
       "    <tr>\n",
       "      <th>1</th>\n",
       "      <td>3000</td>\n",
       "      <td>565000</td>\n",
       "    </tr>\n",
       "    <tr>\n",
       "      <th>2</th>\n",
       "      <td>3200</td>\n",
       "      <td>610000</td>\n",
       "    </tr>\n",
       "    <tr>\n",
       "      <th>3</th>\n",
       "      <td>3600</td>\n",
       "      <td>595000</td>\n",
       "    </tr>\n",
       "    <tr>\n",
       "      <th>4</th>\n",
       "      <td>4000</td>\n",
       "      <td>760000</td>\n",
       "    </tr>\n",
       "    <tr>\n",
       "      <th>5</th>\n",
       "      <td>4100</td>\n",
       "      <td>810000</td>\n",
       "    </tr>\n",
       "  </tbody>\n",
       "</table>\n",
       "</div>"
      ],
      "text/plain": [
       "   area   price\n",
       "0  2600  550000\n",
       "1  3000  565000\n",
       "2  3200  610000\n",
       "3  3600  595000\n",
       "4  4000  760000\n",
       "5  4100  810000"
      ]
     },
     "execution_count": 2,
     "metadata": {},
     "output_type": "execute_result"
    }
   ],
   "source": [
    "df = pd.read_csv(\"../input/practical2-slr/simple_li_homeprices.csv\")\n",
    "df"
   ]
  },
  {
   "cell_type": "markdown",
   "metadata": {
    "papermill": {
     "duration": 0.009449,
     "end_time": "2021-02-08T13:18:20.930470",
     "exception": false,
     "start_time": "2021-02-08T13:18:20.921021",
     "status": "completed"
    },
    "tags": []
   },
   "source": [
    "**Import linear regression model and creates object of it**"
   ]
  },
  {
   "cell_type": "code",
   "execution_count": 3,
   "metadata": {
    "execution": {
     "iopub.execute_input": "2021-02-08T13:18:20.955180Z",
     "iopub.status.busy": "2021-02-08T13:18:20.954525Z",
     "iopub.status.idle": "2021-02-08T13:18:22.180510Z",
     "shell.execute_reply": "2021-02-08T13:18:22.179851Z"
    },
    "papermill": {
     "duration": 1.240366,
     "end_time": "2021-02-08T13:18:22.180667",
     "exception": false,
     "start_time": "2021-02-08T13:18:20.940301",
     "status": "completed"
    },
    "tags": []
   },
   "outputs": [],
   "source": [
    "from sklearn import linear_model\n",
    "obj = linear_model.LinearRegression()"
   ]
  },
  {
   "cell_type": "markdown",
   "metadata": {
    "papermill": {
     "duration": 0.009665,
     "end_time": "2021-02-08T13:18:22.200575",
     "exception": false,
     "start_time": "2021-02-08T13:18:22.190910",
     "status": "completed"
    },
    "tags": []
   },
   "source": [
    "**Trains the model**"
   ]
  },
  {
   "cell_type": "code",
   "execution_count": 4,
   "metadata": {
    "execution": {
     "iopub.execute_input": "2021-02-08T13:18:22.247171Z",
     "iopub.status.busy": "2021-02-08T13:18:22.237753Z",
     "iopub.status.idle": "2021-02-08T13:18:22.255504Z",
     "shell.execute_reply": "2021-02-08T13:18:22.254942Z"
    },
    "papermill": {
     "duration": 0.045261,
     "end_time": "2021-02-08T13:18:22.255651",
     "exception": false,
     "start_time": "2021-02-08T13:18:22.210390",
     "status": "completed"
    },
    "tags": []
   },
   "outputs": [
    {
     "data": {
      "text/plain": [
       "LinearRegression()"
      ]
     },
     "execution_count": 4,
     "metadata": {},
     "output_type": "execute_result"
    }
   ],
   "source": [
    "obj.fit(df[[\"area\"]], df.price)"
   ]
  },
  {
   "cell_type": "markdown",
   "metadata": {
    "papermill": {
     "duration": 0.009963,
     "end_time": "2021-02-08T13:18:22.276153",
     "exception": false,
     "start_time": "2021-02-08T13:18:22.266190",
     "status": "completed"
    },
    "tags": []
   },
   "source": [
    "**Finds value of m(slope) in eq y = m*x + c**"
   ]
  },
  {
   "cell_type": "code",
   "execution_count": 5,
   "metadata": {
    "execution": {
     "iopub.execute_input": "2021-02-08T13:18:22.303098Z",
     "iopub.status.busy": "2021-02-08T13:18:22.302212Z",
     "iopub.status.idle": "2021-02-08T13:18:22.306745Z",
     "shell.execute_reply": "2021-02-08T13:18:22.306133Z"
    },
    "papermill": {
     "duration": 0.020444,
     "end_time": "2021-02-08T13:18:22.306930",
     "exception": false,
     "start_time": "2021-02-08T13:18:22.286486",
     "status": "completed"
    },
    "tags": []
   },
   "outputs": [
    {
     "data": {
      "text/plain": [
       "array([167.30954677])"
      ]
     },
     "execution_count": 5,
     "metadata": {},
     "output_type": "execute_result"
    }
   ],
   "source": [
    "obj.coef_"
   ]
  },
  {
   "cell_type": "markdown",
   "metadata": {
    "papermill": {
     "duration": 0.011763,
     "end_time": "2021-02-08T13:18:22.330484",
     "exception": false,
     "start_time": "2021-02-08T13:18:22.318721",
     "status": "completed"
    },
    "tags": []
   },
   "source": [
    "**Finds value of c(intercept) in eq y = m*x + c**"
   ]
  },
  {
   "cell_type": "code",
   "execution_count": 6,
   "metadata": {
    "execution": {
     "iopub.execute_input": "2021-02-08T13:18:22.358294Z",
     "iopub.status.busy": "2021-02-08T13:18:22.357603Z",
     "iopub.status.idle": "2021-02-08T13:18:22.362115Z",
     "shell.execute_reply": "2021-02-08T13:18:22.362600Z"
    },
    "papermill": {
     "duration": 0.020079,
     "end_time": "2021-02-08T13:18:22.362780",
     "exception": false,
     "start_time": "2021-02-08T13:18:22.342701",
     "status": "completed"
    },
    "tags": []
   },
   "outputs": [
    {
     "data": {
      "text/plain": [
       "76692.38187078107"
      ]
     },
     "execution_count": 6,
     "metadata": {},
     "output_type": "execute_result"
    }
   ],
   "source": [
    "obj.intercept_"
   ]
  },
  {
   "cell_type": "markdown",
   "metadata": {
    "papermill": {
     "duration": 0.011117,
     "end_time": "2021-02-08T13:18:22.385308",
     "exception": false,
     "start_time": "2021-02-08T13:18:22.374191",
     "status": "completed"
    },
    "tags": []
   },
   "source": [
    "**Predicts the value of price for area 5100**"
   ]
  },
  {
   "cell_type": "code",
   "execution_count": 7,
   "metadata": {
    "execution": {
     "iopub.execute_input": "2021-02-08T13:18:22.412121Z",
     "iopub.status.busy": "2021-02-08T13:18:22.411514Z",
     "iopub.status.idle": "2021-02-08T13:18:22.416551Z",
     "shell.execute_reply": "2021-02-08T13:18:22.417057Z"
    },
    "papermill": {
     "duration": 0.020549,
     "end_time": "2021-02-08T13:18:22.417255",
     "exception": false,
     "start_time": "2021-02-08T13:18:22.396706",
     "status": "completed"
    },
    "tags": []
   },
   "outputs": [
    {
     "data": {
      "text/plain": [
       "array([929971.07039537])"
      ]
     },
     "execution_count": 7,
     "metadata": {},
     "output_type": "execute_result"
    }
   ],
   "source": [
    "obj.predict([[5100]])"
   ]
  },
  {
   "cell_type": "markdown",
   "metadata": {
    "papermill": {
     "duration": 0.011551,
     "end_time": "2021-02-08T13:18:22.440667",
     "exception": false,
     "start_time": "2021-02-08T13:18:22.429116",
     "status": "completed"
    },
    "tags": []
   },
   "source": [
    "**Finds value of price for area 5100 using equation**"
   ]
  },
  {
   "cell_type": "code",
   "execution_count": 8,
   "metadata": {
    "execution": {
     "iopub.execute_input": "2021-02-08T13:18:22.468163Z",
     "iopub.status.busy": "2021-02-08T13:18:22.467502Z",
     "iopub.status.idle": "2021-02-08T13:18:22.472120Z",
     "shell.execute_reply": "2021-02-08T13:18:22.472598Z"
    },
    "papermill": {
     "duration": 0.02009,
     "end_time": "2021-02-08T13:18:22.472767",
     "exception": false,
     "start_time": "2021-02-08T13:18:22.452677",
     "status": "completed"
    },
    "tags": []
   },
   "outputs": [
    {
     "data": {
      "text/plain": [
       "929971.0703977811"
      ]
     },
     "execution_count": 8,
     "metadata": {},
     "output_type": "execute_result"
    }
   ],
   "source": [
    "167.30954677*5100 + 76692.38187078107"
   ]
  }
 ],
 "metadata": {
  "kernelspec": {
   "display_name": "Python 3",
   "language": "python",
   "name": "python3"
  },
  "language_info": {
   "codemirror_mode": {
    "name": "ipython",
    "version": 3
   },
   "file_extension": ".py",
   "mimetype": "text/x-python",
   "name": "python",
   "nbconvert_exporter": "python",
   "pygments_lexer": "ipython3",
   "version": "3.7.9"
  },
  "papermill": {
   "default_parameters": {},
   "duration": 8.59386,
   "end_time": "2021-02-08T13:18:23.200518",
   "environment_variables": {},
   "exception": null,
   "input_path": "__notebook__.ipynb",
   "output_path": "__notebook__.ipynb",
   "parameters": {},
   "start_time": "2021-02-08T13:18:14.606658",
   "version": "2.2.2"
  }
 },
 "nbformat": 4,
 "nbformat_minor": 4
}
