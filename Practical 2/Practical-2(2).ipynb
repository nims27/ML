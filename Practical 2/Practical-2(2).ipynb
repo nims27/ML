{
 "cells": [
  {
   "cell_type": "markdown",
   "metadata": {
    "papermill": {
     "duration": 0.01098,
     "end_time": "2021-02-08T13:19:57.288407",
     "exception": false,
     "start_time": "2021-02-08T13:19:57.277427",
     "status": "completed"
    },
    "tags": []
   },
   "source": [
    "**Import pandas and numpy libraries**"
   ]
  },
  {
   "cell_type": "code",
   "execution_count": 1,
   "metadata": {
    "_cell_guid": "b1076dfc-b9ad-4769-8c92-a6c4dae69d19",
    "_uuid": "8f2839f25d086af736a60e9eeb907d3b93b6e0e5",
    "execution": {
     "iopub.execute_input": "2021-02-08T13:19:57.314714Z",
     "iopub.status.busy": "2021-02-08T13:19:57.313647Z",
     "iopub.status.idle": "2021-02-08T13:19:57.317351Z",
     "shell.execute_reply": "2021-02-08T13:19:57.315975Z"
    },
    "papermill": {
     "duration": 0.019044,
     "end_time": "2021-02-08T13:19:57.317593",
     "exception": false,
     "start_time": "2021-02-08T13:19:57.298549",
     "status": "completed"
    },
    "tags": []
   },
   "outputs": [],
   "source": [
    "import numpy as np\n",
    "import pandas as pd "
   ]
  },
  {
   "cell_type": "markdown",
   "metadata": {
    "papermill": {
     "duration": 0.009719,
     "end_time": "2021-02-08T13:19:57.337720",
     "exception": false,
     "start_time": "2021-02-08T13:19:57.328001",
     "status": "completed"
    },
    "tags": []
   },
   "source": [
    "**Read data from homeprices.csv file and store it in dataframe df**"
   ]
  },
  {
   "cell_type": "code",
   "execution_count": 2,
   "metadata": {
    "execution": {
     "iopub.execute_input": "2021-02-08T13:19:57.362935Z",
     "iopub.status.busy": "2021-02-08T13:19:57.362189Z",
     "iopub.status.idle": "2021-02-08T13:19:57.407895Z",
     "shell.execute_reply": "2021-02-08T13:19:57.407342Z"
    },
    "papermill": {
     "duration": 0.060205,
     "end_time": "2021-02-08T13:19:57.408049",
     "exception": false,
     "start_time": "2021-02-08T13:19:57.347844",
     "status": "completed"
    },
    "tags": []
   },
   "outputs": [
    {
     "data": {
      "text/html": [
       "<div>\n",
       "<style scoped>\n",
       "    .dataframe tbody tr th:only-of-type {\n",
       "        vertical-align: middle;\n",
       "    }\n",
       "\n",
       "    .dataframe tbody tr th {\n",
       "        vertical-align: top;\n",
       "    }\n",
       "\n",
       "    .dataframe thead th {\n",
       "        text-align: right;\n",
       "    }\n",
       "</style>\n",
       "<table border=\"1\" class=\"dataframe\">\n",
       "  <thead>\n",
       "    <tr style=\"text-align: right;\">\n",
       "      <th></th>\n",
       "      <th>area</th>\n",
       "      <th>bedrooms</th>\n",
       "      <th>age</th>\n",
       "      <th>price</th>\n",
       "    </tr>\n",
       "  </thead>\n",
       "  <tbody>\n",
       "    <tr>\n",
       "      <th>0</th>\n",
       "      <td>2600</td>\n",
       "      <td>3.0</td>\n",
       "      <td>20</td>\n",
       "      <td>550000</td>\n",
       "    </tr>\n",
       "    <tr>\n",
       "      <th>1</th>\n",
       "      <td>3000</td>\n",
       "      <td>4.0</td>\n",
       "      <td>15</td>\n",
       "      <td>565000</td>\n",
       "    </tr>\n",
       "    <tr>\n",
       "      <th>2</th>\n",
       "      <td>3200</td>\n",
       "      <td>NaN</td>\n",
       "      <td>18</td>\n",
       "      <td>610000</td>\n",
       "    </tr>\n",
       "    <tr>\n",
       "      <th>3</th>\n",
       "      <td>3600</td>\n",
       "      <td>3.0</td>\n",
       "      <td>30</td>\n",
       "      <td>595000</td>\n",
       "    </tr>\n",
       "    <tr>\n",
       "      <th>4</th>\n",
       "      <td>4000</td>\n",
       "      <td>5.0</td>\n",
       "      <td>8</td>\n",
       "      <td>760000</td>\n",
       "    </tr>\n",
       "    <tr>\n",
       "      <th>5</th>\n",
       "      <td>4100</td>\n",
       "      <td>6.0</td>\n",
       "      <td>8</td>\n",
       "      <td>810000</td>\n",
       "    </tr>\n",
       "  </tbody>\n",
       "</table>\n",
       "</div>"
      ],
      "text/plain": [
       "   area  bedrooms  age   price\n",
       "0  2600       3.0   20  550000\n",
       "1  3000       4.0   15  565000\n",
       "2  3200       NaN   18  610000\n",
       "3  3600       3.0   30  595000\n",
       "4  4000       5.0    8  760000\n",
       "5  4100       6.0    8  810000"
      ]
     },
     "execution_count": 2,
     "metadata": {},
     "output_type": "execute_result"
    }
   ],
   "source": [
    "df = pd.read_csv(\"../input/practical2-mlr/homeprices.csv\")\n",
    "df"
   ]
  },
  {
   "cell_type": "markdown",
   "metadata": {
    "papermill": {
     "duration": 0.010841,
     "end_time": "2021-02-08T13:19:57.430435",
     "exception": false,
     "start_time": "2021-02-08T13:19:57.419594",
     "status": "completed"
    },
    "tags": []
   },
   "source": [
    "**Fills NaN values in bedrooms column using fillna() method**"
   ]
  },
  {
   "cell_type": "code",
   "execution_count": 3,
   "metadata": {
    "execution": {
     "iopub.execute_input": "2021-02-08T13:19:57.465444Z",
     "iopub.status.busy": "2021-02-08T13:19:57.464380Z",
     "iopub.status.idle": "2021-02-08T13:19:57.469369Z",
     "shell.execute_reply": "2021-02-08T13:19:57.468663Z"
    },
    "papermill": {
     "duration": 0.027571,
     "end_time": "2021-02-08T13:19:57.469529",
     "exception": false,
     "start_time": "2021-02-08T13:19:57.441958",
     "status": "completed"
    },
    "tags": []
   },
   "outputs": [
    {
     "data": {
      "text/html": [
       "<div>\n",
       "<style scoped>\n",
       "    .dataframe tbody tr th:only-of-type {\n",
       "        vertical-align: middle;\n",
       "    }\n",
       "\n",
       "    .dataframe tbody tr th {\n",
       "        vertical-align: top;\n",
       "    }\n",
       "\n",
       "    .dataframe thead th {\n",
       "        text-align: right;\n",
       "    }\n",
       "</style>\n",
       "<table border=\"1\" class=\"dataframe\">\n",
       "  <thead>\n",
       "    <tr style=\"text-align: right;\">\n",
       "      <th></th>\n",
       "      <th>area</th>\n",
       "      <th>bedrooms</th>\n",
       "      <th>age</th>\n",
       "      <th>price</th>\n",
       "    </tr>\n",
       "  </thead>\n",
       "  <tbody>\n",
       "    <tr>\n",
       "      <th>0</th>\n",
       "      <td>2600</td>\n",
       "      <td>3.0</td>\n",
       "      <td>20</td>\n",
       "      <td>550000</td>\n",
       "    </tr>\n",
       "    <tr>\n",
       "      <th>1</th>\n",
       "      <td>3000</td>\n",
       "      <td>4.0</td>\n",
       "      <td>15</td>\n",
       "      <td>565000</td>\n",
       "    </tr>\n",
       "    <tr>\n",
       "      <th>2</th>\n",
       "      <td>3200</td>\n",
       "      <td>4.2</td>\n",
       "      <td>18</td>\n",
       "      <td>610000</td>\n",
       "    </tr>\n",
       "    <tr>\n",
       "      <th>3</th>\n",
       "      <td>3600</td>\n",
       "      <td>3.0</td>\n",
       "      <td>30</td>\n",
       "      <td>595000</td>\n",
       "    </tr>\n",
       "    <tr>\n",
       "      <th>4</th>\n",
       "      <td>4000</td>\n",
       "      <td>5.0</td>\n",
       "      <td>8</td>\n",
       "      <td>760000</td>\n",
       "    </tr>\n",
       "    <tr>\n",
       "      <th>5</th>\n",
       "      <td>4100</td>\n",
       "      <td>6.0</td>\n",
       "      <td>8</td>\n",
       "      <td>810000</td>\n",
       "    </tr>\n",
       "  </tbody>\n",
       "</table>\n",
       "</div>"
      ],
      "text/plain": [
       "   area  bedrooms  age   price\n",
       "0  2600       3.0   20  550000\n",
       "1  3000       4.0   15  565000\n",
       "2  3200       4.2   18  610000\n",
       "3  3600       3.0   30  595000\n",
       "4  4000       5.0    8  760000\n",
       "5  4100       6.0    8  810000"
      ]
     },
     "execution_count": 3,
     "metadata": {},
     "output_type": "execute_result"
    }
   ],
   "source": [
    "df.bedrooms = df.bedrooms.fillna(df.bedrooms.mean())\n",
    "df"
   ]
  },
  {
   "cell_type": "markdown",
   "metadata": {
    "papermill": {
     "duration": 0.011016,
     "end_time": "2021-02-08T13:19:57.492228",
     "exception": false,
     "start_time": "2021-02-08T13:19:57.481212",
     "status": "completed"
    },
    "tags": []
   },
   "source": [
    "**Import linear regression model and creates object of it**"
   ]
  },
  {
   "cell_type": "code",
   "execution_count": 4,
   "metadata": {
    "execution": {
     "iopub.execute_input": "2021-02-08T13:19:57.520421Z",
     "iopub.status.busy": "2021-02-08T13:19:57.519669Z",
     "iopub.status.idle": "2021-02-08T13:19:58.797192Z",
     "shell.execute_reply": "2021-02-08T13:19:58.795617Z"
    },
    "papermill": {
     "duration": 1.293812,
     "end_time": "2021-02-08T13:19:58.797553",
     "exception": false,
     "start_time": "2021-02-08T13:19:57.503741",
     "status": "completed"
    },
    "tags": []
   },
   "outputs": [],
   "source": [
    "from sklearn import linear_model\n",
    "obj = linear_model.LinearRegression()"
   ]
  },
  {
   "cell_type": "markdown",
   "metadata": {
    "papermill": {
     "duration": 0.011311,
     "end_time": "2021-02-08T13:19:58.821093",
     "exception": false,
     "start_time": "2021-02-08T13:19:58.809782",
     "status": "completed"
    },
    "tags": []
   },
   "source": [
    "**Trains the model**"
   ]
  },
  {
   "cell_type": "code",
   "execution_count": 5,
   "metadata": {
    "execution": {
     "iopub.execute_input": "2021-02-08T13:19:58.874827Z",
     "iopub.status.busy": "2021-02-08T13:19:58.874067Z",
     "iopub.status.idle": "2021-02-08T13:19:58.883099Z",
     "shell.execute_reply": "2021-02-08T13:19:58.883651Z"
    },
    "papermill": {
     "duration": 0.051334,
     "end_time": "2021-02-08T13:19:58.883855",
     "exception": false,
     "start_time": "2021-02-08T13:19:58.832521",
     "status": "completed"
    },
    "tags": []
   },
   "outputs": [
    {
     "data": {
      "text/plain": [
       "LinearRegression()"
      ]
     },
     "execution_count": 5,
     "metadata": {},
     "output_type": "execute_result"
    }
   ],
   "source": [
    "obj.fit(df[[\"area\", \"bedrooms\", \"age\"]], df.price)"
   ]
  },
  {
   "cell_type": "markdown",
   "metadata": {
    "papermill": {
     "duration": 0.011677,
     "end_time": "2021-02-08T13:19:58.908109",
     "exception": false,
     "start_time": "2021-02-08T13:19:58.896432",
     "status": "completed"
    },
    "tags": []
   },
   "source": [
    "**Finds value of m(slope) in eq y = m*x + c**"
   ]
  },
  {
   "cell_type": "code",
   "execution_count": 6,
   "metadata": {
    "execution": {
     "iopub.execute_input": "2021-02-08T13:19:58.936506Z",
     "iopub.status.busy": "2021-02-08T13:19:58.935842Z",
     "iopub.status.idle": "2021-02-08T13:19:58.941920Z",
     "shell.execute_reply": "2021-02-08T13:19:58.941250Z"
    },
    "papermill": {
     "duration": 0.022133,
     "end_time": "2021-02-08T13:19:58.942068",
     "exception": false,
     "start_time": "2021-02-08T13:19:58.919935",
     "status": "completed"
    },
    "tags": []
   },
   "outputs": [
    {
     "data": {
      "text/plain": [
       "array([  116.66950551, 18756.28806982, -3675.75111708])"
      ]
     },
     "execution_count": 6,
     "metadata": {},
     "output_type": "execute_result"
    }
   ],
   "source": [
    "obj.coef_"
   ]
  },
  {
   "cell_type": "markdown",
   "metadata": {
    "papermill": {
     "duration": 0.015262,
     "end_time": "2021-02-08T13:19:58.974036",
     "exception": false,
     "start_time": "2021-02-08T13:19:58.958774",
     "status": "completed"
    },
    "tags": []
   },
   "source": [
    "**Finds value of c(intercept) in eq y = m*x + c**"
   ]
  },
  {
   "cell_type": "code",
   "execution_count": 7,
   "metadata": {
    "execution": {
     "iopub.execute_input": "2021-02-08T13:19:59.007529Z",
     "iopub.status.busy": "2021-02-08T13:19:59.006529Z",
     "iopub.status.idle": "2021-02-08T13:19:59.011980Z",
     "shell.execute_reply": "2021-02-08T13:19:59.012478Z"
    },
    "papermill": {
     "duration": 0.023829,
     "end_time": "2021-02-08T13:19:59.012666",
     "exception": false,
     "start_time": "2021-02-08T13:19:58.988837",
     "status": "completed"
    },
    "tags": []
   },
   "outputs": [
    {
     "data": {
      "text/plain": [
       "231586.00639409182"
      ]
     },
     "execution_count": 7,
     "metadata": {},
     "output_type": "execute_result"
    }
   ],
   "source": [
    "obj.intercept_"
   ]
  },
  {
   "cell_type": "markdown",
   "metadata": {
    "papermill": {
     "duration": 0.018201,
     "end_time": "2021-02-08T13:19:59.045406",
     "exception": false,
     "start_time": "2021-02-08T13:19:59.027205",
     "status": "completed"
    },
    "tags": []
   },
   "source": [
    "**Predicts the value of price for area=3100, bedrooms=4.0 and age=7**"
   ]
  },
  {
   "cell_type": "code",
   "execution_count": 8,
   "metadata": {
    "execution": {
     "iopub.execute_input": "2021-02-08T13:19:59.083502Z",
     "iopub.status.busy": "2021-02-08T13:19:59.082467Z",
     "iopub.status.idle": "2021-02-08T13:19:59.090916Z",
     "shell.execute_reply": "2021-02-08T13:19:59.089934Z"
    },
    "papermill": {
     "duration": 0.031195,
     "end_time": "2021-02-08T13:19:59.091135",
     "exception": false,
     "start_time": "2021-02-08T13:19:59.059940",
     "status": "completed"
    },
    "tags": []
   },
   "outputs": [
    {
     "data": {
      "text/plain": [
       "array([642556.36792148])"
      ]
     },
     "execution_count": 8,
     "metadata": {},
     "output_type": "execute_result"
    }
   ],
   "source": [
    "obj.predict([[3100, 4.0, 7]])"
   ]
  },
  {
   "cell_type": "markdown",
   "metadata": {
    "papermill": {
     "duration": 0.014836,
     "end_time": "2021-02-08T13:19:59.123818",
     "exception": false,
     "start_time": "2021-02-08T13:19:59.108982",
     "status": "completed"
    },
    "tags": []
   },
   "source": [
    "**Finds value of price for area=3100, bedrooms=4.0 and age=7 using equation**"
   ]
  },
  {
   "cell_type": "code",
   "execution_count": 9,
   "metadata": {
    "execution": {
     "iopub.execute_input": "2021-02-08T13:19:59.156393Z",
     "iopub.status.busy": "2021-02-08T13:19:59.155370Z",
     "iopub.status.idle": "2021-02-08T13:19:59.159954Z",
     "shell.execute_reply": "2021-02-08T13:19:59.159323Z"
    },
    "papermill": {
     "duration": 0.023128,
     "end_time": "2021-02-08T13:19:59.160093",
     "exception": false,
     "start_time": "2021-02-08T13:19:59.136965",
     "status": "completed"
    },
    "tags": []
   },
   "outputs": [
    {
     "data": {
      "text/plain": [
       "642556.3679348119"
      ]
     },
     "execution_count": 9,
     "metadata": {},
     "output_type": "execute_result"
    }
   ],
   "source": [
    "116.66950551*3100 + 18756.28806982*4.0 + (-3675.75111708)*7 + 231586.00639409182"
   ]
  }
 ],
 "metadata": {
  "kernelspec": {
   "display_name": "Python 3",
   "language": "python",
   "name": "python3"
  },
  "language_info": {
   "codemirror_mode": {
    "name": "ipython",
    "version": 3
   },
   "file_extension": ".py",
   "mimetype": "text/x-python",
   "name": "python",
   "nbconvert_exporter": "python",
   "pygments_lexer": "ipython3",
   "version": "3.7.9"
  },
  "papermill": {
   "default_parameters": {},
   "duration": 9.272693,
   "end_time": "2021-02-08T13:19:59.785099",
   "environment_variables": {},
   "exception": null,
   "input_path": "__notebook__.ipynb",
   "output_path": "__notebook__.ipynb",
   "parameters": {},
   "start_time": "2021-02-08T13:19:50.512406",
   "version": "2.2.2"
  }
 },
 "nbformat": 4,
 "nbformat_minor": 4
}
