{
 "cells": [
  {
   "cell_type": "markdown",
   "metadata": {
    "papermill": {
     "duration": 0.010761,
     "end_time": "2021-03-31T14:49:45.861659",
     "exception": false,
     "start_time": "2021-03-31T14:49:45.850898",
     "status": "completed"
    },
    "tags": []
   },
   "source": [
    "**Import numpy and Confusion matrix modules**"
   ]
  },
  {
   "cell_type": "code",
   "execution_count": 1,
   "metadata": {
    "_cell_guid": "b1076dfc-b9ad-4769-8c92-a6c4dae69d19",
    "_uuid": "8f2839f25d086af736a60e9eeb907d3b93b6e0e5",
    "execution": {
     "iopub.execute_input": "2021-03-31T14:49:45.887348Z",
     "iopub.status.busy": "2021-03-31T14:49:45.886628Z",
     "iopub.status.idle": "2021-03-31T14:49:46.951423Z",
     "shell.execute_reply": "2021-03-31T14:49:46.950598Z"
    },
    "papermill": {
     "duration": 1.079853,
     "end_time": "2021-03-31T14:49:46.951628",
     "exception": false,
     "start_time": "2021-03-31T14:49:45.871775",
     "status": "completed"
    },
    "tags": []
   },
   "outputs": [],
   "source": [
    "import numpy as np\n",
    "from sklearn.metrics import confusion_matrix, ConfusionMatrixDisplay, classification_report"
   ]
  },
  {
   "cell_type": "markdown",
   "metadata": {
    "papermill": {
     "duration": 0.009592,
     "end_time": "2021-03-31T14:49:46.971774",
     "exception": false,
     "start_time": "2021-03-31T14:49:46.962182",
     "status": "completed"
    },
    "tags": []
   },
   "source": [
    "**Import Logistic Regression, SVM and KNN model**"
   ]
  },
  {
   "cell_type": "code",
   "execution_count": 2,
   "metadata": {
    "execution": {
     "iopub.execute_input": "2021-03-31T14:49:46.997606Z",
     "iopub.status.busy": "2021-03-31T14:49:46.996969Z",
     "iopub.status.idle": "2021-03-31T14:49:47.204787Z",
     "shell.execute_reply": "2021-03-31T14:49:47.204056Z"
    },
    "papermill": {
     "duration": 0.223136,
     "end_time": "2021-03-31T14:49:47.204929",
     "exception": false,
     "start_time": "2021-03-31T14:49:46.981793",
     "status": "completed"
    },
    "tags": []
   },
   "outputs": [],
   "source": [
    "from sklearn.linear_model import LogisticRegression\n",
    "from sklearn.svm import SVC\n",
    "from sklearn.neighbors import KNeighborsClassifier"
   ]
  },
  {
   "cell_type": "markdown",
   "metadata": {
    "papermill": {
     "duration": 0.00967,
     "end_time": "2021-03-31T14:49:47.224744",
     "exception": false,
     "start_time": "2021-03-31T14:49:47.215074",
     "status": "completed"
    },
    "tags": []
   },
   "source": [
    "**Creates objects of all three model**"
   ]
  },
  {
   "cell_type": "code",
   "execution_count": 3,
   "metadata": {
    "execution": {
     "iopub.execute_input": "2021-03-31T14:49:47.250021Z",
     "iopub.status.busy": "2021-03-31T14:49:47.249309Z",
     "iopub.status.idle": "2021-03-31T14:49:47.252356Z",
     "shell.execute_reply": "2021-03-31T14:49:47.251861Z"
    },
    "papermill": {
     "duration": 0.017805,
     "end_time": "2021-03-31T14:49:47.252490",
     "exception": false,
     "start_time": "2021-03-31T14:49:47.234685",
     "status": "completed"
    },
    "tags": []
   },
   "outputs": [],
   "source": [
    "lr = LogisticRegression(max_iter=2000)\n",
    "svm = SVC(kernel='linear', C=0.01)\n",
    "knn = KNeighborsClassifier()"
   ]
  },
  {
   "cell_type": "markdown",
   "metadata": {
    "papermill": {
     "duration": 0.009793,
     "end_time": "2021-03-31T14:49:47.272530",
     "exception": false,
     "start_time": "2021-03-31T14:49:47.262737",
     "status": "completed"
    },
    "tags": []
   },
   "source": [
    "**Loads iris dataset from sklearn**"
   ]
  },
  {
   "cell_type": "code",
   "execution_count": 4,
   "metadata": {
    "execution": {
     "iopub.execute_input": "2021-03-31T14:49:47.296183Z",
     "iopub.status.busy": "2021-03-31T14:49:47.295229Z",
     "iopub.status.idle": "2021-03-31T14:49:47.464746Z",
     "shell.execute_reply": "2021-03-31T14:49:47.464158Z"
    },
    "papermill": {
     "duration": 0.18232,
     "end_time": "2021-03-31T14:49:47.464884",
     "exception": false,
     "start_time": "2021-03-31T14:49:47.282564",
     "status": "completed"
    },
    "tags": []
   },
   "outputs": [],
   "source": [
    "from sklearn.datasets import load_iris\n",
    "iris = load_iris()"
   ]
  },
  {
   "cell_type": "markdown",
   "metadata": {
    "papermill": {
     "duration": 0.010123,
     "end_time": "2021-03-31T14:49:47.485498",
     "exception": false,
     "start_time": "2021-03-31T14:49:47.475375",
     "status": "completed"
    },
    "tags": []
   },
   "source": [
    "**Divides independent and dependent variables into X and y respectively**"
   ]
  },
  {
   "cell_type": "code",
   "execution_count": 5,
   "metadata": {
    "execution": {
     "iopub.execute_input": "2021-03-31T14:49:47.511310Z",
     "iopub.status.busy": "2021-03-31T14:49:47.510257Z",
     "iopub.status.idle": "2021-03-31T14:49:47.513139Z",
     "shell.execute_reply": "2021-03-31T14:49:47.512598Z"
    },
    "papermill": {
     "duration": 0.017376,
     "end_time": "2021-03-31T14:49:47.513292",
     "exception": false,
     "start_time": "2021-03-31T14:49:47.495916",
     "status": "completed"
    },
    "tags": []
   },
   "outputs": [],
   "source": [
    "X = iris.data\n",
    "y = iris.target"
   ]
  },
  {
   "cell_type": "markdown",
   "metadata": {
    "papermill": {
     "duration": 0.010073,
     "end_time": "2021-03-31T14:49:47.533850",
     "exception": false,
     "start_time": "2021-03-31T14:49:47.523777",
     "status": "completed"
    },
    "tags": []
   },
   "source": [
    "**Divides data into 80% training and 20% testing data**"
   ]
  },
  {
   "cell_type": "code",
   "execution_count": 6,
   "metadata": {
    "execution": {
     "iopub.execute_input": "2021-03-31T14:49:47.557848Z",
     "iopub.status.busy": "2021-03-31T14:49:47.557224Z",
     "iopub.status.idle": "2021-03-31T14:49:47.564183Z",
     "shell.execute_reply": "2021-03-31T14:49:47.564713Z"
    },
    "papermill": {
     "duration": 0.02069,
     "end_time": "2021-03-31T14:49:47.564882",
     "exception": false,
     "start_time": "2021-03-31T14:49:47.544192",
     "status": "completed"
    },
    "tags": []
   },
   "outputs": [],
   "source": [
    "from sklearn.model_selection import train_test_split\n",
    "X_train, X_test, y_train, y_test = train_test_split(X, y, test_size=0.2, random_state=0)"
   ]
  },
  {
   "cell_type": "markdown",
   "metadata": {
    "papermill": {
     "duration": 0.010235,
     "end_time": "2021-03-31T14:49:47.586908",
     "exception": false,
     "start_time": "2021-03-31T14:49:47.576673",
     "status": "completed"
    },
    "tags": []
   },
   "source": [
    "**Prints Confusion matrix and Classification report for logistic regression model**"
   ]
  },
  {
   "cell_type": "code",
   "execution_count": 7,
   "metadata": {
    "execution": {
     "iopub.execute_input": "2021-03-31T14:49:47.614779Z",
     "iopub.status.busy": "2021-03-31T14:49:47.613795Z",
     "iopub.status.idle": "2021-03-31T14:49:47.895813Z",
     "shell.execute_reply": "2021-03-31T14:49:47.895120Z"
    },
    "papermill": {
     "duration": 0.298516,
     "end_time": "2021-03-31T14:49:47.895956",
     "exception": false,
     "start_time": "2021-03-31T14:49:47.597440",
     "status": "completed"
    },
    "tags": []
   },
   "outputs": [
    {
     "name": "stdout",
     "output_type": "stream",
     "text": [
      "Confusion matrix for logistic regression :-- \n",
      "\n",
      " [[11  0  0]\n",
      " [ 0 13  0]\n",
      " [ 0  0  6]]\n",
      "\n",
      "\n",
      "Classification report :-- \n",
      "\n",
      "               precision    recall  f1-score   support\n",
      "\n",
      "      setosa       1.00      1.00      1.00        11\n",
      "  versicolor       1.00      1.00      1.00        13\n",
      "   virginica       1.00      1.00      1.00         6\n",
      "\n",
      "    accuracy                           1.00        30\n",
      "   macro avg       1.00      1.00      1.00        30\n",
      "weighted avg       1.00      1.00      1.00        30\n",
      "\n"
     ]
    },
    {
     "data": {
      "image/png": "[encoded data removed]",
      "text/plain": [
       "<Figure size 432x288 with 2 Axes>"
      ]
     },
     "metadata": {
      "needs_background": "light"
     },
     "output_type": "display_data"
    }
   ],
   "source": [
    "lr.fit(X_train, y_train)\n",
    "y_pred = lr.predict(X_test)\n",
    "cm = confusion_matrix(y_test, y_pred)\n",
    "print(\"Confusion matrix for logistic regression :-- \\n\\n\", cm)\n",
    "cm_display = ConfusionMatrixDisplay(cm).plot()\n",
    "print(\"\\n\\nClassification report :-- \\n\\n\",classification_report(y_test, y_pred, target_names=iris.target_names))"
   ]
  },
  {
   "cell_type": "markdown",
   "metadata": {
    "papermill": {
     "duration": 0.012488,
     "end_time": "2021-03-31T14:49:47.921037",
     "exception": false,
     "start_time": "2021-03-31T14:49:47.908549",
     "status": "completed"
    },
    "tags": []
   },
   "source": [
    "**Prints Confusion matrix and Classification report for SVM model**"
   ]
  },
  {
   "cell_type": "code",
   "execution_count": 8,
   "metadata": {
    "execution": {
     "iopub.execute_input": "2021-03-31T14:49:47.952833Z",
     "iopub.status.busy": "2021-03-31T14:49:47.952111Z",
     "iopub.status.idle": "2021-03-31T14:49:48.146846Z",
     "shell.execute_reply": "2021-03-31T14:49:48.146120Z"
    },
    "papermill": {
     "duration": 0.21384,
     "end_time": "2021-03-31T14:49:48.146987",
     "exception": false,
     "start_time": "2021-03-31T14:49:47.933147",
     "status": "completed"
    },
    "tags": []
   },
   "outputs": [
    {
     "name": "stdout",
     "output_type": "stream",
     "text": [
      "Confusion matrix for SVM :-- \n",
      "\n",
      " [[11  0  0]\n",
      " [ 0  8  5]\n",
      " [ 0  0  6]]\n",
      "\n",
      "\n",
      "Classification report :-- \n",
      "\n",
      "               precision    recall  f1-score   support\n",
      "\n",
      "      setosa       1.00      1.00      1.00        11\n",
      "  versicolor       1.00      0.62      0.76        13\n",
      "   virginica       0.55      1.00      0.71         6\n",
      "\n",
      "    accuracy                           0.83        30\n",
      "   macro avg       0.85      0.87      0.82        30\n",
      "weighted avg       0.91      0.83      0.84        30\n",
      "\n"
     ]
    },
    {
     "data": {
      "image/png": "[encoded data removed]",
      "text/plain": [
       "<Figure size 432x288 with 2 Axes>"
      ]
     },
     "metadata": {
      "needs_background": "light"
     },
     "output_type": "display_data"
    }
   ],
   "source": [
    "svm.fit(X_train, y_train)\n",
    "y_pred = svm.predict(X_test)\n",
    "cm = confusion_matrix(y_test, y_pred)\n",
    "print(\"Confusion matrix for SVM :-- \\n\\n\", cm)\n",
    "cm_display = ConfusionMatrixDisplay(cm).plot()\n",
    "print(\"\\n\\nClassification report :-- \\n\\n\",classification_report(y_test, y_pred, target_names=iris.target_names))"
   ]
  },
  {
   "cell_type": "markdown",
   "metadata": {
    "papermill": {
     "duration": 0.012791,
     "end_time": "2021-03-31T14:49:48.172766",
     "exception": false,
     "start_time": "2021-03-31T14:49:48.159975",
     "status": "completed"
    },
    "tags": []
   },
   "source": [
    "**Prints Confusion matrix and Classification report for KNN model**"
   ]
  },
  {
   "cell_type": "code",
   "execution_count": 9,
   "metadata": {
    "execution": {
     "iopub.execute_input": "2021-03-31T14:49:48.206710Z",
     "iopub.status.busy": "2021-03-31T14:49:48.206044Z",
     "iopub.status.idle": "2021-03-31T14:49:48.410968Z",
     "shell.execute_reply": "2021-03-31T14:49:48.410222Z"
    },
    "papermill": {
     "duration": 0.225518,
     "end_time": "2021-03-31T14:49:48.411121",
     "exception": false,
     "start_time": "2021-03-31T14:49:48.185603",
     "status": "completed"
    },
    "tags": []
   },
   "outputs": [
    {
     "name": "stdout",
     "output_type": "stream",
     "text": [
      "Confusion matrix for KNN :-- \n",
      "\n",
      " [[11  0  0]\n",
      " [ 0 12  1]\n",
      " [ 0  0  6]]\n",
      "\n",
      "\n",
      "Classification report :-- \n",
      "\n",
      "               precision    recall  f1-score   support\n",
      "\n",
      "      setosa       1.00      1.00      1.00        11\n",
      "  versicolor       1.00      0.92      0.96        13\n",
      "   virginica       0.86      1.00      0.92         6\n",
      "\n",
      "    accuracy                           0.97        30\n",
      "   macro avg       0.95      0.97      0.96        30\n",
      "weighted avg       0.97      0.97      0.97        30\n",
      "\n"
     ]
    },
    {
     "data": {
      "image/png": "[encoded data removed]",
      "text/plain": [
       "<Figure size 432x288 with 2 Axes>"
      ]
     },
     "metadata": {
      "needs_background": "light"
     },
     "output_type": "display_data"
    }
   ],
   "source": [
    "knn.fit(X_train, y_train)\n",
    "y_pred = knn.predict(X_test)\n",
    "cm = confusion_matrix(y_test, y_pred)\n",
    "print(\"Confusion matrix for KNN :-- \\n\\n\", cm)\n",
    "cm_display = ConfusionMatrixDisplay(cm).plot()\n",
    "print(\"\\n\\nClassification report :-- \\n\\n\",classification_report(y_test, y_pred, target_names=iris.target_names))"
   ]
  }
 ],
 "metadata": {
  "kernelspec": {
   "display_name": "Python 3",
   "language": "python",
   "name": "python3"
  },
  "language_info": {
   "codemirror_mode": {
    "name": "ipython",
    "version": 3
   },
   "file_extension": ".py",
   "mimetype": "text/x-python",
   "name": "python",
   "nbconvert_exporter": "python",
   "pygments_lexer": "ipython3",
   "version": "3.7.9"
  },
  "papermill": {
   "default_parameters": {},
   "duration": 8.960501,
   "end_time": "2021-03-31T14:49:49.034629",
   "environment_variables": {},
   "exception": null,
   "input_path": "__notebook__.ipynb",
   "output_path": "__notebook__.ipynb",
   "parameters": {},
   "start_time": "2021-03-31T14:49:40.074128",
   "version": "2.2.2"
  }
 },
 "nbformat": 4,
 "nbformat_minor": 4
}
