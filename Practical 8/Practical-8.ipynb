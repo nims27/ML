{
 "cells": [
  {
   "cell_type": "markdown",
   "metadata": {
    "papermill": {
     "duration": 0.009951,
     "end_time": "2021-04-04T14:14:33.570135",
     "exception": false,
     "start_time": "2021-04-04T14:14:33.560184",
     "status": "completed"
    },
    "tags": []
   },
   "source": [
    "**Loads digits dataset from sklearn**"
   ]
  },
  {
   "cell_type": "code",
   "execution_count": 1,
   "metadata": {
    "execution": {
     "iopub.execute_input": "2021-04-04T14:14:33.592419Z",
     "iopub.status.busy": "2021-04-04T14:14:33.591785Z",
     "iopub.status.idle": "2021-04-04T14:14:34.830405Z",
     "shell.execute_reply": "2021-04-04T14:14:34.830937Z"
    },
    "papermill": {
     "duration": 1.253832,
     "end_time": "2021-04-04T14:14:34.832715",
     "exception": false,
     "start_time": "2021-04-04T14:14:33.578883",
     "status": "completed"
    },
    "tags": []
   },
   "outputs": [],
   "source": [
    "from sklearn.datasets import load_digits\n",
    "digits = load_digits()"
   ]
  },
  {
   "cell_type": "markdown",
   "metadata": {
    "papermill": {
     "duration": 0.008137,
     "end_time": "2021-04-04T14:14:34.850054",
     "exception": false,
     "start_time": "2021-04-04T14:14:34.841917",
     "status": "completed"
    },
    "tags": []
   },
   "source": [
    "**Divides independent and dependent variables into X and y respectively**"
   ]
  },
  {
   "cell_type": "code",
   "execution_count": 2,
   "metadata": {
    "execution": {
     "iopub.execute_input": "2021-04-04T14:14:34.872059Z",
     "iopub.status.busy": "2021-04-04T14:14:34.870968Z",
     "iopub.status.idle": "2021-04-04T14:14:34.874146Z",
     "shell.execute_reply": "2021-04-04T14:14:34.873647Z"
    },
    "papermill": {
     "duration": 0.015998,
     "end_time": "2021-04-04T14:14:34.874278",
     "exception": false,
     "start_time": "2021-04-04T14:14:34.858280",
     "status": "completed"
    },
    "tags": []
   },
   "outputs": [],
   "source": [
    "X = digits.data\n",
    "y = digits.target"
   ]
  },
  {
   "cell_type": "markdown",
   "metadata": {
    "papermill": {
     "duration": 0.007983,
     "end_time": "2021-04-04T14:14:34.890851",
     "exception": false,
     "start_time": "2021-04-04T14:14:34.882868",
     "status": "completed"
    },
    "tags": []
   },
   "source": [
    "**Divides data into 80% training and 20% testing data**"
   ]
  },
  {
   "cell_type": "code",
   "execution_count": 3,
   "metadata": {
    "execution": {
     "iopub.execute_input": "2021-04-04T14:14:34.912159Z",
     "iopub.status.busy": "2021-04-04T14:14:34.911604Z",
     "iopub.status.idle": "2021-04-04T14:14:34.984299Z",
     "shell.execute_reply": "2021-04-04T14:14:34.983367Z"
    },
    "papermill": {
     "duration": 0.085296,
     "end_time": "2021-04-04T14:14:34.984463",
     "exception": false,
     "start_time": "2021-04-04T14:14:34.899167",
     "status": "completed"
    },
    "tags": []
   },
   "outputs": [],
   "source": [
    "from sklearn.model_selection import train_test_split\n",
    "X_train, X_test, y_train, y_test = train_test_split(X, y, test_size=0.2, random_state=0)"
   ]
  },
  {
   "cell_type": "markdown",
   "metadata": {
    "papermill": {
     "duration": 0.008376,
     "end_time": "2021-04-04T14:14:35.001574",
     "exception": false,
     "start_time": "2021-04-04T14:14:34.993198",
     "status": "completed"
    },
    "tags": []
   },
   "source": [
    "**Import RandomFroestClassifier and creates object of it**"
   ]
  },
  {
   "cell_type": "code",
   "execution_count": 4,
   "metadata": {
    "execution": {
     "iopub.execute_input": "2021-04-04T14:14:35.023249Z",
     "iopub.status.busy": "2021-04-04T14:14:35.022679Z",
     "iopub.status.idle": "2021-04-04T14:14:35.362984Z",
     "shell.execute_reply": "2021-04-04T14:14:35.364017Z"
    },
    "papermill": {
     "duration": 0.353999,
     "end_time": "2021-04-04T14:14:35.364204",
     "exception": false,
     "start_time": "2021-04-04T14:14:35.010205",
     "status": "completed"
    },
    "tags": []
   },
   "outputs": [],
   "source": [
    "from sklearn.ensemble import RandomForestClassifier\n",
    "rfc = RandomForestClassifier()"
   ]
  },
  {
   "cell_type": "markdown",
   "metadata": {
    "papermill": {
     "duration": 0.008428,
     "end_time": "2021-04-04T14:14:35.381716",
     "exception": false,
     "start_time": "2021-04-04T14:14:35.373288",
     "status": "completed"
    },
    "tags": []
   },
   "source": [
    "**Trains the model by using X_train and y_train**"
   ]
  },
  {
   "cell_type": "code",
   "execution_count": 5,
   "metadata": {
    "execution": {
     "iopub.execute_input": "2021-04-04T14:14:35.403823Z",
     "iopub.status.busy": "2021-04-04T14:14:35.403098Z",
     "iopub.status.idle": "2021-04-04T14:14:35.746890Z",
     "shell.execute_reply": "2021-04-04T14:14:35.746289Z"
    },
    "papermill": {
     "duration": 0.356661,
     "end_time": "2021-04-04T14:14:35.747026",
     "exception": false,
     "start_time": "2021-04-04T14:14:35.390365",
     "status": "completed"
    },
    "tags": []
   },
   "outputs": [
    {
     "data": {
      "text/plain": [
       "RandomForestClassifier()"
      ]
     },
     "execution_count": 5,
     "metadata": {},
     "output_type": "execute_result"
    }
   ],
   "source": [
    "rfc.fit(X_train, y_train)"
   ]
  },
  {
   "cell_type": "markdown",
   "metadata": {
    "papermill": {
     "duration": 0.008618,
     "end_time": "2021-04-04T14:14:35.765020",
     "exception": false,
     "start_time": "2021-04-04T14:14:35.756402",
     "status": "completed"
    },
    "tags": []
   },
   "source": [
    "**Predicts output for testing data X_test**"
   ]
  },
  {
   "cell_type": "code",
   "execution_count": 6,
   "metadata": {
    "execution": {
     "iopub.execute_input": "2021-04-04T14:14:35.790848Z",
     "iopub.status.busy": "2021-04-04T14:14:35.790214Z",
     "iopub.status.idle": "2021-04-04T14:14:35.816284Z",
     "shell.execute_reply": "2021-04-04T14:14:35.815581Z"
    },
    "papermill": {
     "duration": 0.040779,
     "end_time": "2021-04-04T14:14:35.816446",
     "exception": false,
     "start_time": "2021-04-04T14:14:35.775667",
     "status": "completed"
    },
    "tags": []
   },
   "outputs": [
    {
     "data": {
      "text/plain": [
       "array([2, 8, 2, 6, 6, 7, 1, 9, 8, 5, 2, 8, 6, 6, 6, 6, 1, 0, 5, 8, 8, 7,\n",
       "       8, 4, 7, 5, 4, 9, 2, 9, 4, 7, 6, 8, 9, 4, 3, 1, 0, 1, 8, 6, 7, 7,\n",
       "       1, 0, 7, 6, 2, 1, 9, 6, 7, 9, 0, 0, 9, 1, 6, 3, 0, 2, 3, 4, 1, 9,\n",
       "       2, 6, 9, 1, 8, 3, 5, 1, 2, 8, 2, 2, 9, 7, 2, 3, 6, 0, 5, 3, 7, 5,\n",
       "       1, 2, 9, 9, 3, 1, 7, 7, 4, 8, 5, 8, 5, 5, 2, 5, 9, 0, 7, 1, 4, 7,\n",
       "       3, 4, 8, 9, 7, 9, 8, 0, 6, 5, 2, 5, 3, 4, 1, 7, 0, 6, 1, 5, 5, 3,\n",
       "       9, 5, 9, 9, 5, 7, 5, 6, 2, 8, 6, 9, 6, 1, 5, 1, 5, 9, 9, 1, 5, 3,\n",
       "       6, 1, 8, 9, 7, 7, 6, 7, 6, 5, 6, 0, 8, 8, 9, 8, 6, 1, 0, 4, 1, 6,\n",
       "       3, 8, 6, 7, 4, 9, 6, 3, 0, 3, 3, 3, 0, 7, 7, 5, 7, 8, 0, 7, 8, 9,\n",
       "       6, 4, 5, 0, 1, 4, 6, 4, 3, 3, 0, 9, 5, 9, 2, 1, 4, 2, 1, 6, 8, 9,\n",
       "       2, 4, 9, 3, 7, 6, 2, 3, 3, 1, 6, 9, 3, 6, 3, 2, 2, 0, 7, 6, 1, 1,\n",
       "       9, 7, 2, 7, 8, 5, 5, 7, 5, 2, 3, 7, 2, 7, 5, 5, 7, 0, 9, 1, 6, 5,\n",
       "       9, 7, 4, 3, 8, 0, 3, 6, 4, 6, 3, 1, 6, 8, 8, 8, 4, 6, 7, 5, 2, 4,\n",
       "       5, 3, 2, 4, 6, 9, 4, 5, 4, 3, 4, 6, 2, 9, 0, 1, 7, 2, 0, 9, 6, 0,\n",
       "       4, 2, 0, 7, 5, 8, 5, 7, 8, 2, 8, 4, 3, 7, 2, 6, 9, 1, 5, 1, 0, 8,\n",
       "       2, 5, 9, 5, 6, 8, 2, 7, 2, 1, 5, 1, 6, 4, 5, 0, 9, 4, 1, 1, 7, 0,\n",
       "       8, 9, 0, 5, 4, 3, 8, 8])"
      ]
     },
     "execution_count": 6,
     "metadata": {},
     "output_type": "execute_result"
    }
   ],
   "source": [
    "y_pred = rfc.predict(X_test)\n",
    "y_pred"
   ]
  },
  {
   "cell_type": "markdown",
   "metadata": {
    "papermill": {
     "duration": 0.009818,
     "end_time": "2021-04-04T14:14:35.836585",
     "exception": false,
     "start_time": "2021-04-04T14:14:35.826767",
     "status": "completed"
    },
    "tags": []
   },
   "source": [
    "**Shows accuracy of model**"
   ]
  },
  {
   "cell_type": "code",
   "execution_count": 7,
   "metadata": {
    "execution": {
     "iopub.execute_input": "2021-04-04T14:14:35.860698Z",
     "iopub.status.busy": "2021-04-04T14:14:35.860079Z",
     "iopub.status.idle": "2021-04-04T14:14:35.882740Z",
     "shell.execute_reply": "2021-04-04T14:14:35.882055Z"
    },
    "papermill": {
     "duration": 0.036893,
     "end_time": "2021-04-04T14:14:35.882882",
     "exception": false,
     "start_time": "2021-04-04T14:14:35.845989",
     "status": "completed"
    },
    "tags": []
   },
   "outputs": [
    {
     "data": {
      "text/plain": [
       "0.9666666666666667"
      ]
     },
     "execution_count": 7,
     "metadata": {},
     "output_type": "execute_result"
    }
   ],
   "source": [
    "rfc.score(X_test, y_test)"
   ]
  },
  {
   "cell_type": "markdown",
   "metadata": {
    "papermill": {
     "duration": 0.009316,
     "end_time": "2021-04-04T14:14:35.902040",
     "exception": false,
     "start_time": "2021-04-04T14:14:35.892724",
     "status": "completed"
    },
    "tags": []
   },
   "source": [
    "**Import Confusion matrix modules**"
   ]
  },
  {
   "cell_type": "code",
   "execution_count": 8,
   "metadata": {
    "execution": {
     "iopub.execute_input": "2021-04-04T14:14:35.926320Z",
     "iopub.status.busy": "2021-04-04T14:14:35.925757Z",
     "iopub.status.idle": "2021-04-04T14:14:35.928858Z",
     "shell.execute_reply": "2021-04-04T14:14:35.928270Z"
    },
    "papermill": {
     "duration": 0.017221,
     "end_time": "2021-04-04T14:14:35.928990",
     "exception": false,
     "start_time": "2021-04-04T14:14:35.911769",
     "status": "completed"
    },
    "tags": []
   },
   "outputs": [],
   "source": [
    "from sklearn.metrics import confusion_matrix, ConfusionMatrixDisplay, classification_report"
   ]
  },
  {
   "cell_type": "markdown",
   "metadata": {
    "papermill": {
     "duration": 0.00998,
     "end_time": "2021-04-04T14:14:35.949791",
     "exception": false,
     "start_time": "2021-04-04T14:14:35.939811",
     "status": "completed"
    },
    "tags": []
   },
   "source": [
    "**Prints Confusion matrix**"
   ]
  },
  {
   "cell_type": "code",
   "execution_count": 9,
   "metadata": {
    "execution": {
     "iopub.execute_input": "2021-04-04T14:14:35.991766Z",
     "iopub.status.busy": "2021-04-04T14:14:35.977165Z",
     "iopub.status.idle": "2021-04-04T14:14:36.663695Z",
     "shell.execute_reply": "2021-04-04T14:14:36.663081Z"
    },
    "papermill": {
     "duration": 0.703869,
     "end_time": "2021-04-04T14:14:36.663837",
     "exception": false,
     "start_time": "2021-04-04T14:14:35.959968",
     "status": "completed"
    },
    "tags": []
   },
   "outputs": [
    {
     "name": "stdout",
     "output_type": "stream",
     "text": [
      "Confusion matrix :-- \n",
      "\n",
      " [[27  0  0  0  0  0  0  0  0  0]\n",
      " [ 0 34  0  0  0  1  0  0  0  0]\n",
      " [ 1  1 34  0  0  0  0  0  0  0]\n",
      " [ 0  0  0 29  0  0  0  0  0  0]\n",
      " [ 0  0  0  0 29  0  0  1  0  0]\n",
      " [ 0  0  0  0  0 38  0  0  0  2]\n",
      " [ 0  0  0  0  0  0 44  0  0  0]\n",
      " [ 0  0  0  0  0  0  0 39  0  0]\n",
      " [ 0  1  0  1  0  0  0  1 36  0]\n",
      " [ 0  0  0  1  0  2  0  0  0 38]]\n"
     ]
    },
    {
     "data": {
      "image/png": "[encoded data removed]",
      "text/plain": [
       "<Figure size 432x288 with 2 Axes>"
      ]
     },
     "metadata": {
      "needs_background": "light"
     },
     "output_type": "display_data"
    }
   ],
   "source": [
    "cm = confusion_matrix(y_test, y_pred)\n",
    "print(\"Confusion matrix :-- \\n\\n\", cm)\n",
    "cm_display = ConfusionMatrixDisplay(cm).plot()"
   ]
  },
  {
   "cell_type": "markdown",
   "metadata": {
    "papermill": {
     "duration": 0.01096,
     "end_time": "2021-04-04T14:14:36.685823",
     "exception": false,
     "start_time": "2021-04-04T14:14:36.674863",
     "status": "completed"
    },
    "tags": []
   },
   "source": [
    "**Prints Classification report**"
   ]
  },
  {
   "cell_type": "code",
   "execution_count": 10,
   "metadata": {
    "execution": {
     "iopub.execute_input": "2021-04-04T14:14:36.714014Z",
     "iopub.status.busy": "2021-04-04T14:14:36.713071Z",
     "iopub.status.idle": "2021-04-04T14:14:36.722240Z",
     "shell.execute_reply": "2021-04-04T14:14:36.722734Z"
    },
    "papermill": {
     "duration": 0.025629,
     "end_time": "2021-04-04T14:14:36.722897",
     "exception": false,
     "start_time": "2021-04-04T14:14:36.697268",
     "status": "completed"
    },
    "tags": []
   },
   "outputs": [
    {
     "name": "stdout",
     "output_type": "stream",
     "text": [
      "\n",
      "\n",
      "Classification report :-- \n",
      "\n",
      "               precision    recall  f1-score   support\n",
      "\n",
      "           0       0.96      1.00      0.98        27\n",
      "           1       0.94      0.97      0.96        35\n",
      "           2       1.00      0.94      0.97        36\n",
      "           3       0.94      1.00      0.97        29\n",
      "           4       1.00      0.97      0.98        30\n",
      "           5       0.93      0.95      0.94        40\n",
      "           6       1.00      1.00      1.00        44\n",
      "           7       0.95      1.00      0.97        39\n",
      "           8       1.00      0.92      0.96        39\n",
      "           9       0.95      0.93      0.94        41\n",
      "\n",
      "    accuracy                           0.97       360\n",
      "   macro avg       0.97      0.97      0.97       360\n",
      "weighted avg       0.97      0.97      0.97       360\n",
      "\n"
     ]
    }
   ],
   "source": [
    "print(\"\\n\\nClassification report :-- \\n\\n\",classification_report(y_test, y_pred))"
   ]
  }
 ],
 "metadata": {
  "kernelspec": {
   "display_name": "Python 3",
   "language": "python",
   "name": "python3"
  },
  "language_info": {
   "codemirror_mode": {
    "name": "ipython",
    "version": 3
   },
   "file_extension": ".py",
   "mimetype": "text/x-python",
   "name": "python",
   "nbconvert_exporter": "python",
   "pygments_lexer": "ipython3",
   "version": "3.7.9"
  },
  "papermill": {
   "default_parameters": {},
   "duration": 9.432052,
   "end_time": "2021-04-04T14:14:37.444158",
   "environment_variables": {},
   "exception": null,
   "input_path": "__notebook__.ipynb",
   "output_path": "__notebook__.ipynb",
   "parameters": {},
   "start_time": "2021-04-04T14:14:28.012106",
   "version": "2.2.2"
  }
 },
 "nbformat": 4,
 "nbformat_minor": 4
}
