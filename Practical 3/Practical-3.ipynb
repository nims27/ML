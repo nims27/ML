{
 "cells": [
  {
   "cell_type": "markdown",
   "metadata": {
    "papermill": {
     "duration": 0.015832,
     "end_time": "2021-02-08T13:33:19.787430",
     "exception": false,
     "start_time": "2021-02-08T13:33:19.771598",
     "status": "completed"
    },
    "tags": []
   },
   "source": [
    "**Import pandas, numpy and pyplot libraries**"
   ]
  },
  {
   "cell_type": "code",
   "execution_count": 1,
   "metadata": {
    "_cell_guid": "b1076dfc-b9ad-4769-8c92-a6c4dae69d19",
    "_uuid": "8f2839f25d086af736a60e9eeb907d3b93b6e0e5",
    "execution": {
     "iopub.execute_input": "2021-02-08T13:33:19.819830Z",
     "iopub.status.busy": "2021-02-08T13:33:19.819144Z",
     "iopub.status.idle": "2021-02-08T13:33:19.825021Z",
     "shell.execute_reply": "2021-02-08T13:33:19.824309Z"
    },
    "papermill": {
     "duration": 0.023213,
     "end_time": "2021-02-08T13:33:19.825220",
     "exception": false,
     "start_time": "2021-02-08T13:33:19.802007",
     "status": "completed"
    },
    "tags": []
   },
   "outputs": [],
   "source": [
    "import numpy as np \n",
    "import pandas as pd \n",
    "from matplotlib import pyplot as plt"
   ]
  },
  {
   "cell_type": "markdown",
   "metadata": {
    "papermill": {
     "duration": 0.01425,
     "end_time": "2021-02-08T13:33:19.854434",
     "exception": false,
     "start_time": "2021-02-08T13:33:19.840184",
     "status": "completed"
    },
    "tags": []
   },
   "source": [
    "**Read data from insurance_data.csv file and store it in dataframe df**"
   ]
  },
  {
   "cell_type": "code",
   "execution_count": 2,
   "metadata": {
    "execution": {
     "iopub.execute_input": "2021-02-08T13:33:19.886703Z",
     "iopub.status.busy": "2021-02-08T13:33:19.886059Z",
     "iopub.status.idle": "2021-02-08T13:33:19.940994Z",
     "shell.execute_reply": "2021-02-08T13:33:19.941620Z"
    },
    "papermill": {
     "duration": 0.072883,
     "end_time": "2021-02-08T13:33:19.941798",
     "exception": false,
     "start_time": "2021-02-08T13:33:19.868915",
     "status": "completed"
    },
    "tags": []
   },
   "outputs": [
    {
     "data": {
      "text/html": [
       "<div>\n",
       "<style scoped>\n",
       "    .dataframe tbody tr th:only-of-type {\n",
       "        vertical-align: middle;\n",
       "    }\n",
       "\n",
       "    .dataframe tbody tr th {\n",
       "        vertical-align: top;\n",
       "    }\n",
       "\n",
       "    .dataframe thead th {\n",
       "        text-align: right;\n",
       "    }\n",
       "</style>\n",
       "<table border=\"1\" class=\"dataframe\">\n",
       "  <thead>\n",
       "    <tr style=\"text-align: right;\">\n",
       "      <th></th>\n",
       "      <th>age</th>\n",
       "      <th>bought_insurance</th>\n",
       "    </tr>\n",
       "  </thead>\n",
       "  <tbody>\n",
       "    <tr>\n",
       "      <th>0</th>\n",
       "      <td>22</td>\n",
       "      <td>0</td>\n",
       "    </tr>\n",
       "    <tr>\n",
       "      <th>1</th>\n",
       "      <td>25</td>\n",
       "      <td>0</td>\n",
       "    </tr>\n",
       "    <tr>\n",
       "      <th>2</th>\n",
       "      <td>47</td>\n",
       "      <td>1</td>\n",
       "    </tr>\n",
       "    <tr>\n",
       "      <th>3</th>\n",
       "      <td>52</td>\n",
       "      <td>0</td>\n",
       "    </tr>\n",
       "    <tr>\n",
       "      <th>4</th>\n",
       "      <td>46</td>\n",
       "      <td>1</td>\n",
       "    </tr>\n",
       "    <tr>\n",
       "      <th>5</th>\n",
       "      <td>56</td>\n",
       "      <td>1</td>\n",
       "    </tr>\n",
       "    <tr>\n",
       "      <th>6</th>\n",
       "      <td>55</td>\n",
       "      <td>0</td>\n",
       "    </tr>\n",
       "    <tr>\n",
       "      <th>7</th>\n",
       "      <td>60</td>\n",
       "      <td>1</td>\n",
       "    </tr>\n",
       "    <tr>\n",
       "      <th>8</th>\n",
       "      <td>62</td>\n",
       "      <td>1</td>\n",
       "    </tr>\n",
       "    <tr>\n",
       "      <th>9</th>\n",
       "      <td>61</td>\n",
       "      <td>1</td>\n",
       "    </tr>\n",
       "    <tr>\n",
       "      <th>10</th>\n",
       "      <td>18</td>\n",
       "      <td>0</td>\n",
       "    </tr>\n",
       "    <tr>\n",
       "      <th>11</th>\n",
       "      <td>28</td>\n",
       "      <td>0</td>\n",
       "    </tr>\n",
       "    <tr>\n",
       "      <th>12</th>\n",
       "      <td>27</td>\n",
       "      <td>0</td>\n",
       "    </tr>\n",
       "    <tr>\n",
       "      <th>13</th>\n",
       "      <td>29</td>\n",
       "      <td>0</td>\n",
       "    </tr>\n",
       "    <tr>\n",
       "      <th>14</th>\n",
       "      <td>49</td>\n",
       "      <td>1</td>\n",
       "    </tr>\n",
       "    <tr>\n",
       "      <th>15</th>\n",
       "      <td>55</td>\n",
       "      <td>1</td>\n",
       "    </tr>\n",
       "    <tr>\n",
       "      <th>16</th>\n",
       "      <td>25</td>\n",
       "      <td>1</td>\n",
       "    </tr>\n",
       "    <tr>\n",
       "      <th>17</th>\n",
       "      <td>58</td>\n",
       "      <td>1</td>\n",
       "    </tr>\n",
       "    <tr>\n",
       "      <th>18</th>\n",
       "      <td>19</td>\n",
       "      <td>0</td>\n",
       "    </tr>\n",
       "    <tr>\n",
       "      <th>19</th>\n",
       "      <td>18</td>\n",
       "      <td>0</td>\n",
       "    </tr>\n",
       "    <tr>\n",
       "      <th>20</th>\n",
       "      <td>21</td>\n",
       "      <td>0</td>\n",
       "    </tr>\n",
       "    <tr>\n",
       "      <th>21</th>\n",
       "      <td>26</td>\n",
       "      <td>0</td>\n",
       "    </tr>\n",
       "    <tr>\n",
       "      <th>22</th>\n",
       "      <td>40</td>\n",
       "      <td>1</td>\n",
       "    </tr>\n",
       "    <tr>\n",
       "      <th>23</th>\n",
       "      <td>45</td>\n",
       "      <td>1</td>\n",
       "    </tr>\n",
       "    <tr>\n",
       "      <th>24</th>\n",
       "      <td>50</td>\n",
       "      <td>1</td>\n",
       "    </tr>\n",
       "    <tr>\n",
       "      <th>25</th>\n",
       "      <td>54</td>\n",
       "      <td>1</td>\n",
       "    </tr>\n",
       "    <tr>\n",
       "      <th>26</th>\n",
       "      <td>23</td>\n",
       "      <td>0</td>\n",
       "    </tr>\n",
       "  </tbody>\n",
       "</table>\n",
       "</div>"
      ],
      "text/plain": [
       "    age  bought_insurance\n",
       "0    22                 0\n",
       "1    25                 0\n",
       "2    47                 1\n",
       "3    52                 0\n",
       "4    46                 1\n",
       "5    56                 1\n",
       "6    55                 0\n",
       "7    60                 1\n",
       "8    62                 1\n",
       "9    61                 1\n",
       "10   18                 0\n",
       "11   28                 0\n",
       "12   27                 0\n",
       "13   29                 0\n",
       "14   49                 1\n",
       "15   55                 1\n",
       "16   25                 1\n",
       "17   58                 1\n",
       "18   19                 0\n",
       "19   18                 0\n",
       "20   21                 0\n",
       "21   26                 0\n",
       "22   40                 1\n",
       "23   45                 1\n",
       "24   50                 1\n",
       "25   54                 1\n",
       "26   23                 0"
      ]
     },
     "execution_count": 2,
     "metadata": {},
     "output_type": "execute_result"
    }
   ],
   "source": [
    "df = pd.read_csv('../input/college/insurance_data.csv')\n",
    "df"
   ]
  },
  {
   "cell_type": "markdown",
   "metadata": {
    "papermill": {
     "duration": 0.015129,
     "end_time": "2021-02-08T13:33:19.973067",
     "exception": false,
     "start_time": "2021-02-08T13:33:19.957938",
     "status": "completed"
    },
    "tags": []
   },
   "source": [
    "**Plot a scatter plot of age on x axis and bought_insurance on y axis using pyplot**"
   ]
  },
  {
   "cell_type": "code",
   "execution_count": 3,
   "metadata": {
    "execution": {
     "iopub.execute_input": "2021-02-08T13:33:20.007221Z",
     "iopub.status.busy": "2021-02-08T13:33:20.006508Z",
     "iopub.status.idle": "2021-02-08T13:33:20.187456Z",
     "shell.execute_reply": "2021-02-08T13:33:20.186764Z"
    },
    "papermill": {
     "duration": 0.199161,
     "end_time": "2021-02-08T13:33:20.187617",
     "exception": false,
     "start_time": "2021-02-08T13:33:19.988456",
     "status": "completed"
    },
    "tags": []
   },
   "outputs": [
    {
     "data": {
      "text/plain": [
       "<matplotlib.collections.PathCollection at 0x7f4df4573250>"
      ]
     },
     "execution_count": 3,
     "metadata": {},
     "output_type": "execute_result"
    },
    {
     "data": {
      "image/png": "[encoded data removed]",
      "text/plain": [
       "<Figure size 432x288 with 1 Axes>"
      ]
     },
     "metadata": {
      "needs_background": "light"
     },
     "output_type": "display_data"
    }
   ],
   "source": [
    "plt.scatter(df.age, df.bought_insurance, marker='o')"
   ]
  },
  {
   "cell_type": "markdown",
   "metadata": {
    "papermill": {
     "duration": 0.016596,
     "end_time": "2021-02-08T13:33:20.221040",
     "exception": false,
     "start_time": "2021-02-08T13:33:20.204444",
     "status": "completed"
    },
    "tags": []
   },
   "source": [
    "**Import train_test_split**"
   ]
  },
  {
   "cell_type": "code",
   "execution_count": 4,
   "metadata": {
    "execution": {
     "iopub.execute_input": "2021-02-08T13:33:20.261326Z",
     "iopub.status.busy": "2021-02-08T13:33:20.260615Z",
     "iopub.status.idle": "2021-02-08T13:33:21.450894Z",
     "shell.execute_reply": "2021-02-08T13:33:21.450284Z"
    },
    "papermill": {
     "duration": 1.21243,
     "end_time": "2021-02-08T13:33:21.451063",
     "exception": false,
     "start_time": "2021-02-08T13:33:20.238633",
     "status": "completed"
    },
    "tags": []
   },
   "outputs": [],
   "source": [
    "from sklearn.model_selection import train_test_split"
   ]
  },
  {
   "cell_type": "markdown",
   "metadata": {
    "papermill": {
     "duration": 0.016201,
     "end_time": "2021-02-08T13:33:21.485177",
     "exception": false,
     "start_time": "2021-02-08T13:33:21.468976",
     "status": "completed"
    },
    "tags": []
   },
   "source": [
    "**Divides data of df into 80% training and 20% testing data**"
   ]
  },
  {
   "cell_type": "code",
   "execution_count": 5,
   "metadata": {
    "execution": {
     "iopub.execute_input": "2021-02-08T13:33:21.526511Z",
     "iopub.status.busy": "2021-02-08T13:33:21.525827Z",
     "iopub.status.idle": "2021-02-08T13:33:21.530231Z",
     "shell.execute_reply": "2021-02-08T13:33:21.529588Z"
    },
    "papermill": {
     "duration": 0.028692,
     "end_time": "2021-02-08T13:33:21.530391",
     "exception": false,
     "start_time": "2021-02-08T13:33:21.501699",
     "status": "completed"
    },
    "tags": []
   },
   "outputs": [],
   "source": [
    "X_train, X_test, Y_train, Y_test = train_test_split(df[[\"age\"]], df.bought_insurance, test_size=0.2)"
   ]
  },
  {
   "cell_type": "markdown",
   "metadata": {
    "papermill": {
     "duration": 0.016285,
     "end_time": "2021-02-08T13:33:21.563447",
     "exception": false,
     "start_time": "2021-02-08T13:33:21.547162",
     "status": "completed"
    },
    "tags": []
   },
   "source": [
    "**Import logistic regression model and creates object of it**"
   ]
  },
  {
   "cell_type": "code",
   "execution_count": 6,
   "metadata": {
    "execution": {
     "iopub.execute_input": "2021-02-08T13:33:21.600165Z",
     "iopub.status.busy": "2021-02-08T13:33:21.599518Z",
     "iopub.status.idle": "2021-02-08T13:33:21.700612Z",
     "shell.execute_reply": "2021-02-08T13:33:21.699060Z"
    },
    "papermill": {
     "duration": 0.120639,
     "end_time": "2021-02-08T13:33:21.700788",
     "exception": false,
     "start_time": "2021-02-08T13:33:21.580149",
     "status": "completed"
    },
    "tags": []
   },
   "outputs": [],
   "source": [
    "from sklearn.linear_model import LogisticRegression\n",
    "obj = LogisticRegression()"
   ]
  },
  {
   "cell_type": "markdown",
   "metadata": {
    "papermill": {
     "duration": 0.016585,
     "end_time": "2021-02-08T13:33:21.734525",
     "exception": false,
     "start_time": "2021-02-08T13:33:21.717940",
     "status": "completed"
    },
    "tags": []
   },
   "source": [
    "**Trains the model by using X_train and Y_train**"
   ]
  },
  {
   "cell_type": "code",
   "execution_count": 7,
   "metadata": {
    "execution": {
     "iopub.execute_input": "2021-02-08T13:33:21.782977Z",
     "iopub.status.busy": "2021-02-08T13:33:21.782313Z",
     "iopub.status.idle": "2021-02-08T13:33:21.793163Z",
     "shell.execute_reply": "2021-02-08T13:33:21.793623Z"
    },
    "papermill": {
     "duration": 0.041159,
     "end_time": "2021-02-08T13:33:21.793806",
     "exception": false,
     "start_time": "2021-02-08T13:33:21.752647",
     "status": "completed"
    },
    "tags": []
   },
   "outputs": [
    {
     "data": {
      "text/plain": [
       "LogisticRegression()"
      ]
     },
     "execution_count": 7,
     "metadata": {},
     "output_type": "execute_result"
    }
   ],
   "source": [
    "obj.fit(X_train,Y_train)"
   ]
  },
  {
   "cell_type": "markdown",
   "metadata": {
    "papermill": {
     "duration": 0.01673,
     "end_time": "2021-02-08T13:33:21.827799",
     "exception": false,
     "start_time": "2021-02-08T13:33:21.811069",
     "status": "completed"
    },
    "tags": []
   },
   "source": [
    "**Predicts the insurance value for age 50**"
   ]
  },
  {
   "cell_type": "code",
   "execution_count": 8,
   "metadata": {
    "execution": {
     "iopub.execute_input": "2021-02-08T13:33:21.865822Z",
     "iopub.status.busy": "2021-02-08T13:33:21.865062Z",
     "iopub.status.idle": "2021-02-08T13:33:21.871371Z",
     "shell.execute_reply": "2021-02-08T13:33:21.871907Z"
    },
    "papermill": {
     "duration": 0.027004,
     "end_time": "2021-02-08T13:33:21.872081",
     "exception": false,
     "start_time": "2021-02-08T13:33:21.845077",
     "status": "completed"
    },
    "tags": []
   },
   "outputs": [
    {
     "data": {
      "text/plain": [
       "array([1])"
      ]
     },
     "execution_count": 8,
     "metadata": {},
     "output_type": "execute_result"
    }
   ],
   "source": [
    "obj.predict([[50]])"
   ]
  },
  {
   "cell_type": "markdown",
   "metadata": {
    "papermill": {
     "duration": 0.017705,
     "end_time": "2021-02-08T13:33:21.907629",
     "exception": false,
     "start_time": "2021-02-08T13:33:21.889924",
     "status": "completed"
    },
    "tags": []
   },
   "source": [
    "**Predicts output for testing data X_test**"
   ]
  },
  {
   "cell_type": "code",
   "execution_count": 9,
   "metadata": {
    "execution": {
     "iopub.execute_input": "2021-02-08T13:33:21.953126Z",
     "iopub.status.busy": "2021-02-08T13:33:21.952493Z",
     "iopub.status.idle": "2021-02-08T13:33:21.957109Z",
     "shell.execute_reply": "2021-02-08T13:33:21.956583Z"
    },
    "papermill": {
     "duration": 0.031576,
     "end_time": "2021-02-08T13:33:21.957245",
     "exception": false,
     "start_time": "2021-02-08T13:33:21.925669",
     "status": "completed"
    },
    "tags": []
   },
   "outputs": [
    {
     "data": {
      "text/plain": [
       "array([0, 1, 1, 0, 0, 0])"
      ]
     },
     "execution_count": 9,
     "metadata": {},
     "output_type": "execute_result"
    }
   ],
   "source": [
    "obj.predict(X_test)"
   ]
  },
  {
   "cell_type": "markdown",
   "metadata": {
    "papermill": {
     "duration": 0.018074,
     "end_time": "2021-02-08T13:33:21.994003",
     "exception": false,
     "start_time": "2021-02-08T13:33:21.975929",
     "status": "completed"
    },
    "tags": []
   },
   "source": [
    "**Finds value of m(slop) in eq y = m*x + c**"
   ]
  },
  {
   "cell_type": "code",
   "execution_count": 10,
   "metadata": {
    "execution": {
     "iopub.execute_input": "2021-02-08T13:33:22.036524Z",
     "iopub.status.busy": "2021-02-08T13:33:22.035451Z",
     "iopub.status.idle": "2021-02-08T13:33:22.039607Z",
     "shell.execute_reply": "2021-02-08T13:33:22.039070Z"
    },
    "papermill": {
     "duration": 0.027366,
     "end_time": "2021-02-08T13:33:22.039755",
     "exception": false,
     "start_time": "2021-02-08T13:33:22.012389",
     "status": "completed"
    },
    "tags": []
   },
   "outputs": [
    {
     "data": {
      "text/plain": [
       "array([[0.19760541]])"
      ]
     },
     "execution_count": 10,
     "metadata": {},
     "output_type": "execute_result"
    }
   ],
   "source": [
    "obj.coef_"
   ]
  },
  {
   "cell_type": "markdown",
   "metadata": {
    "papermill": {
     "duration": 0.018313,
     "end_time": "2021-02-08T13:33:22.076971",
     "exception": false,
     "start_time": "2021-02-08T13:33:22.058658",
     "status": "completed"
    },
    "tags": []
   },
   "source": [
    "**Finds value of c(intercept) in eq y = m*x + c**"
   ]
  },
  {
   "cell_type": "code",
   "execution_count": 11,
   "metadata": {
    "execution": {
     "iopub.execute_input": "2021-02-08T13:33:22.120069Z",
     "iopub.status.busy": "2021-02-08T13:33:22.118990Z",
     "iopub.status.idle": "2021-02-08T13:33:22.123300Z",
     "shell.execute_reply": "2021-02-08T13:33:22.122765Z"
    },
    "papermill": {
     "duration": 0.027808,
     "end_time": "2021-02-08T13:33:22.123457",
     "exception": false,
     "start_time": "2021-02-08T13:33:22.095649",
     "status": "completed"
    },
    "tags": []
   },
   "outputs": [
    {
     "data": {
      "text/plain": [
       "array([-7.78260653])"
      ]
     },
     "execution_count": 11,
     "metadata": {},
     "output_type": "execute_result"
    }
   ],
   "source": [
    "obj.intercept_"
   ]
  },
  {
   "cell_type": "markdown",
   "metadata": {
    "papermill": {
     "duration": 0.020783,
     "end_time": "2021-02-08T13:33:22.163587",
     "exception": false,
     "start_time": "2021-02-08T13:33:22.142804",
     "status": "completed"
    },
    "tags": []
   },
   "source": [
    "**Converts value of y in range of 0 to 1 using sigmoid equation**"
   ]
  },
  {
   "cell_type": "code",
   "execution_count": 12,
   "metadata": {
    "execution": {
     "iopub.execute_input": "2021-02-08T13:33:22.207948Z",
     "iopub.status.busy": "2021-02-08T13:33:22.207215Z",
     "iopub.status.idle": "2021-02-08T13:33:22.210156Z",
     "shell.execute_reply": "2021-02-08T13:33:22.209653Z"
    },
    "papermill": {
     "duration": 0.027478,
     "end_time": "2021-02-08T13:33:22.210320",
     "exception": false,
     "start_time": "2021-02-08T13:33:22.182842",
     "status": "completed"
    },
    "tags": []
   },
   "outputs": [],
   "source": [
    "import math\n",
    "def sig(x):\n",
    "    y = 1 / (1+math.exp(-x))\n",
    "    return y"
   ]
  },
  {
   "cell_type": "markdown",
   "metadata": {
    "papermill": {
     "duration": 0.01936,
     "end_time": "2021-02-08T13:33:22.248934",
     "exception": false,
     "start_time": "2021-02-08T13:33:22.229574",
     "status": "completed"
    },
    "tags": []
   },
   "source": [
    "**Finds value of y using coefficient and intercept and pass it to sigmoid function**"
   ]
  },
  {
   "cell_type": "code",
   "execution_count": 13,
   "metadata": {
    "execution": {
     "iopub.execute_input": "2021-02-08T13:33:22.292928Z",
     "iopub.status.busy": "2021-02-08T13:33:22.291871Z",
     "iopub.status.idle": "2021-02-08T13:33:22.295557Z",
     "shell.execute_reply": "2021-02-08T13:33:22.294906Z"
    },
    "papermill": {
     "duration": 0.027495,
     "end_time": "2021-02-08T13:33:22.295704",
     "exception": false,
     "start_time": "2021-02-08T13:33:22.268209",
     "status": "completed"
    },
    "tags": []
   },
   "outputs": [],
   "source": [
    "def pred(age):\n",
    "    z = 0.11317473 * age + (-4.2069268)\n",
    "    return sig(z)"
   ]
  },
  {
   "cell_type": "markdown",
   "metadata": {
    "papermill": {
     "duration": 0.01924,
     "end_time": "2021-02-08T13:33:22.334404",
     "exception": false,
     "start_time": "2021-02-08T13:33:22.315164",
     "status": "completed"
    },
    "tags": []
   },
   "source": [
    "**Finds value of bought_insurance for age 50 using equation**"
   ]
  },
  {
   "cell_type": "code",
   "execution_count": 14,
   "metadata": {
    "execution": {
     "iopub.execute_input": "2021-02-08T13:33:22.378472Z",
     "iopub.status.busy": "2021-02-08T13:33:22.377541Z",
     "iopub.status.idle": "2021-02-08T13:33:22.381623Z",
     "shell.execute_reply": "2021-02-08T13:33:22.381071Z"
    },
    "papermill": {
     "duration": 0.028199,
     "end_time": "2021-02-08T13:33:22.381772",
     "exception": false,
     "start_time": "2021-02-08T13:33:22.353573",
     "status": "completed"
    },
    "tags": []
   },
   "outputs": [
    {
     "data": {
      "text/plain": [
       "0.8102767923356102"
      ]
     },
     "execution_count": 14,
     "metadata": {},
     "output_type": "execute_result"
    }
   ],
   "source": [
    "pred(50)"
   ]
  }
 ],
 "metadata": {
  "kernelspec": {
   "display_name": "Python 3",
   "language": "python",
   "name": "python3"
  },
  "language_info": {
   "codemirror_mode": {
    "name": "ipython",
    "version": 3
   },
   "file_extension": ".py",
   "mimetype": "text/x-python",
   "name": "python",
   "nbconvert_exporter": "python",
   "pygments_lexer": "ipython3",
   "version": "3.7.9"
  },
  "papermill": {
   "default_parameters": {},
   "duration": 9.772713,
   "end_time": "2021-02-08T13:33:23.011805",
   "environment_variables": {},
   "exception": null,
   "input_path": "__notebook__.ipynb",
   "output_path": "__notebook__.ipynb",
   "parameters": {},
   "start_time": "2021-02-08T13:33:13.239092",
   "version": "2.2.2"
  }
 },
 "nbformat": 4,
 "nbformat_minor": 4
}
