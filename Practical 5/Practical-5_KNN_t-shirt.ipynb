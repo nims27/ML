{
 "cells": [
  {
   "cell_type": "markdown",
   "metadata": {
    "papermill": {
     "duration": 0.011707,
     "end_time": "2021-03-01T16:31:14.975963",
     "exception": false,
     "start_time": "2021-03-01T16:31:14.964256",
     "status": "completed"
    },
    "tags": []
   },
   "source": [
    "**Import pandas and numpy libraries**"
   ]
  },
  {
   "cell_type": "code",
   "execution_count": 1,
   "metadata": {
    "_cell_guid": "b1076dfc-b9ad-4769-8c92-a6c4dae69d19",
    "_uuid": "8f2839f25d086af736a60e9eeb907d3b93b6e0e5",
    "execution": {
     "iopub.execute_input": "2021-03-01T16:31:15.001223Z",
     "iopub.status.busy": "2021-03-01T16:31:15.000568Z",
     "iopub.status.idle": "2021-03-01T16:31:15.003740Z",
     "shell.execute_reply": "2021-03-01T16:31:15.003077Z"
    },
    "papermill": {
     "duration": 0.017853,
     "end_time": "2021-03-01T16:31:15.003938",
     "exception": false,
     "start_time": "2021-03-01T16:31:14.986085",
     "status": "completed"
    },
    "tags": []
   },
   "outputs": [],
   "source": [
    "import numpy as np \n",
    "import pandas as pd "
   ]
  },
  {
   "cell_type": "markdown",
   "metadata": {
    "papermill": {
     "duration": 0.010163,
     "end_time": "2021-03-01T16:31:15.025105",
     "exception": false,
     "start_time": "2021-03-01T16:31:15.014942",
     "status": "completed"
    },
    "tags": []
   },
   "source": [
    "**Read data from T-shirt dataset.csv file and store it in dataframe df**"
   ]
  },
  {
   "cell_type": "code",
   "execution_count": 2,
   "metadata": {
    "execution": {
     "iopub.execute_input": "2021-03-01T16:31:15.049109Z",
     "iopub.status.busy": "2021-03-01T16:31:15.048466Z",
     "iopub.status.idle": "2021-03-01T16:31:15.103228Z",
     "shell.execute_reply": "2021-03-01T16:31:15.102722Z"
    },
    "papermill": {
     "duration": 0.067835,
     "end_time": "2021-03-01T16:31:15.103371",
     "exception": false,
     "start_time": "2021-03-01T16:31:15.035536",
     "status": "completed"
    },
    "tags": []
   },
   "outputs": [
    {
     "data": {
      "text/html": [
       "<div>\n",
       "<style scoped>\n",
       "    .dataframe tbody tr th:only-of-type {\n",
       "        vertical-align: middle;\n",
       "    }\n",
       "\n",
       "    .dataframe tbody tr th {\n",
       "        vertical-align: top;\n",
       "    }\n",
       "\n",
       "    .dataframe thead th {\n",
       "        text-align: right;\n",
       "    }\n",
       "</style>\n",
       "<table border=\"1\" class=\"dataframe\">\n",
       "  <thead>\n",
       "    <tr style=\"text-align: right;\">\n",
       "      <th></th>\n",
       "      <th>Height</th>\n",
       "      <th>Weight</th>\n",
       "      <th>T-shirt Size</th>\n",
       "    </tr>\n",
       "  </thead>\n",
       "  <tbody>\n",
       "    <tr>\n",
       "      <th>0</th>\n",
       "      <td>158</td>\n",
       "      <td>58</td>\n",
       "      <td>M</td>\n",
       "    </tr>\n",
       "    <tr>\n",
       "      <th>1</th>\n",
       "      <td>158</td>\n",
       "      <td>59</td>\n",
       "      <td>M</td>\n",
       "    </tr>\n",
       "    <tr>\n",
       "      <th>2</th>\n",
       "      <td>158</td>\n",
       "      <td>63</td>\n",
       "      <td>M</td>\n",
       "    </tr>\n",
       "    <tr>\n",
       "      <th>3</th>\n",
       "      <td>160</td>\n",
       "      <td>59</td>\n",
       "      <td>M</td>\n",
       "    </tr>\n",
       "    <tr>\n",
       "      <th>4</th>\n",
       "      <td>160</td>\n",
       "      <td>60</td>\n",
       "      <td>M</td>\n",
       "    </tr>\n",
       "    <tr>\n",
       "      <th>5</th>\n",
       "      <td>163</td>\n",
       "      <td>60</td>\n",
       "      <td>M</td>\n",
       "    </tr>\n",
       "    <tr>\n",
       "      <th>6</th>\n",
       "      <td>163</td>\n",
       "      <td>61</td>\n",
       "      <td>M</td>\n",
       "    </tr>\n",
       "    <tr>\n",
       "      <th>7</th>\n",
       "      <td>160</td>\n",
       "      <td>64</td>\n",
       "      <td>L</td>\n",
       "    </tr>\n",
       "    <tr>\n",
       "      <th>8</th>\n",
       "      <td>163</td>\n",
       "      <td>64</td>\n",
       "      <td>L</td>\n",
       "    </tr>\n",
       "    <tr>\n",
       "      <th>9</th>\n",
       "      <td>165</td>\n",
       "      <td>61</td>\n",
       "      <td>L</td>\n",
       "    </tr>\n",
       "    <tr>\n",
       "      <th>10</th>\n",
       "      <td>165</td>\n",
       "      <td>62</td>\n",
       "      <td>L</td>\n",
       "    </tr>\n",
       "    <tr>\n",
       "      <th>11</th>\n",
       "      <td>165</td>\n",
       "      <td>65</td>\n",
       "      <td>L</td>\n",
       "    </tr>\n",
       "    <tr>\n",
       "      <th>12</th>\n",
       "      <td>168</td>\n",
       "      <td>62</td>\n",
       "      <td>L</td>\n",
       "    </tr>\n",
       "    <tr>\n",
       "      <th>13</th>\n",
       "      <td>168</td>\n",
       "      <td>63</td>\n",
       "      <td>L</td>\n",
       "    </tr>\n",
       "    <tr>\n",
       "      <th>14</th>\n",
       "      <td>168</td>\n",
       "      <td>66</td>\n",
       "      <td>L</td>\n",
       "    </tr>\n",
       "    <tr>\n",
       "      <th>15</th>\n",
       "      <td>170</td>\n",
       "      <td>63</td>\n",
       "      <td>L</td>\n",
       "    </tr>\n",
       "    <tr>\n",
       "      <th>16</th>\n",
       "      <td>170</td>\n",
       "      <td>64</td>\n",
       "      <td>L</td>\n",
       "    </tr>\n",
       "    <tr>\n",
       "      <th>17</th>\n",
       "      <td>170</td>\n",
       "      <td>68</td>\n",
       "      <td>L</td>\n",
       "    </tr>\n",
       "  </tbody>\n",
       "</table>\n",
       "</div>"
      ],
      "text/plain": [
       "    Height  Weight  T-shirt Size\n",
       "0      158       58            M\n",
       "1      158       59            M\n",
       "2      158       63            M\n",
       "3      160       59            M\n",
       "4      160       60            M\n",
       "5      163       60            M\n",
       "6      163       61            M\n",
       "7      160       64            L\n",
       "8      163       64            L\n",
       "9      165       61            L\n",
       "10     165       62            L\n",
       "11     165       65            L\n",
       "12     168       62            L\n",
       "13     168       63            L\n",
       "14     168       66            L\n",
       "15     170       63            L\n",
       "16     170       64            L\n",
       "17     170       68            L"
      ]
     },
     "execution_count": 2,
     "metadata": {},
     "output_type": "execute_result"
    }
   ],
   "source": [
    "df = pd.read_csv('../input/practical52/T-shirt dataset.csv')\n",
    "df"
   ]
  },
  {
   "cell_type": "markdown",
   "metadata": {
    "papermill": {
     "duration": 0.010435,
     "end_time": "2021-03-01T16:31:15.125002",
     "exception": false,
     "start_time": "2021-03-01T16:31:15.114567",
     "status": "completed"
    },
    "tags": []
   },
   "source": [
    "**Divides independent and dependent variables into X and y respectively**"
   ]
  },
  {
   "cell_type": "code",
   "execution_count": 3,
   "metadata": {
    "execution": {
     "iopub.execute_input": "2021-03-01T16:31:15.152801Z",
     "iopub.status.busy": "2021-03-01T16:31:15.152134Z",
     "iopub.status.idle": "2021-03-01T16:31:15.154062Z",
     "shell.execute_reply": "2021-03-01T16:31:15.154553Z"
    },
    "papermill": {
     "duration": 0.018955,
     "end_time": "2021-03-01T16:31:15.154729",
     "exception": false,
     "start_time": "2021-03-01T16:31:15.135774",
     "status": "completed"
    },
    "tags": []
   },
   "outputs": [],
   "source": [
    "X = df.iloc[:, :2].values\n",
    "y = df.iloc[:, 2].values"
   ]
  },
  {
   "cell_type": "markdown",
   "metadata": {
    "papermill": {
     "duration": 0.010617,
     "end_time": "2021-03-01T16:31:15.176605",
     "exception": false,
     "start_time": "2021-03-01T16:31:15.165988",
     "status": "completed"
    },
    "tags": []
   },
   "source": [
    "**Converts string values of y into numeric values using label encoder**"
   ]
  },
  {
   "cell_type": "code",
   "execution_count": 4,
   "metadata": {
    "execution": {
     "iopub.execute_input": "2021-03-01T16:31:15.202063Z",
     "iopub.status.busy": "2021-03-01T16:31:15.201359Z",
     "iopub.status.idle": "2021-03-01T16:31:16.235773Z",
     "shell.execute_reply": "2021-03-01T16:31:16.234224Z"
    },
    "papermill": {
     "duration": 1.048383,
     "end_time": "2021-03-01T16:31:16.235933",
     "exception": false,
     "start_time": "2021-03-01T16:31:15.187550",
     "status": "completed"
    },
    "tags": []
   },
   "outputs": [
    {
     "data": {
      "text/plain": [
       "array([1, 1, 1, 1, 1, 1, 1, 0, 0, 0, 0, 0, 0, 0, 0, 0, 0, 0])"
      ]
     },
     "execution_count": 4,
     "metadata": {},
     "output_type": "execute_result"
    }
   ],
   "source": [
    "from sklearn.preprocessing import LabelEncoder\n",
    "le = LabelEncoder()\n",
    "y = le.fit_transform(y)\n",
    "y"
   ]
  },
  {
   "cell_type": "markdown",
   "metadata": {
    "papermill": {
     "duration": 0.011284,
     "end_time": "2021-03-01T16:31:16.258759",
     "exception": false,
     "start_time": "2021-03-01T16:31:16.247475",
     "status": "completed"
    },
    "tags": []
   },
   "source": [
    "**Divides data into 80% training and 20% testing data**"
   ]
  },
  {
   "cell_type": "code",
   "execution_count": 5,
   "metadata": {
    "execution": {
     "iopub.execute_input": "2021-03-01T16:31:16.288023Z",
     "iopub.status.busy": "2021-03-01T16:31:16.287339Z",
     "iopub.status.idle": "2021-03-01T16:31:16.359003Z",
     "shell.execute_reply": "2021-03-01T16:31:16.358487Z"
    },
    "papermill": {
     "duration": 0.08806,
     "end_time": "2021-03-01T16:31:16.359161",
     "exception": false,
     "start_time": "2021-03-01T16:31:16.271101",
     "status": "completed"
    },
    "tags": []
   },
   "outputs": [],
   "source": [
    "from sklearn.model_selection import train_test_split\n",
    "X_train, X_test, y_train, y_test = train_test_split(X, y, test_size=0.2, random_state=0)"
   ]
  },
  {
   "cell_type": "markdown",
   "metadata": {
    "papermill": {
     "duration": 0.011222,
     "end_time": "2021-03-01T16:31:16.382022",
     "exception": false,
     "start_time": "2021-03-01T16:31:16.370800",
     "status": "completed"
    },
    "tags": []
   },
   "source": [
    "**Import KNN model and creates object of it**"
   ]
  },
  {
   "cell_type": "code",
   "execution_count": 6,
   "metadata": {
    "execution": {
     "iopub.execute_input": "2021-03-01T16:31:16.409859Z",
     "iopub.status.busy": "2021-03-01T16:31:16.409222Z",
     "iopub.status.idle": "2021-03-01T16:31:16.598485Z",
     "shell.execute_reply": "2021-03-01T16:31:16.597880Z"
    },
    "papermill": {
     "duration": 0.205088,
     "end_time": "2021-03-01T16:31:16.598643",
     "exception": false,
     "start_time": "2021-03-01T16:31:16.393555",
     "status": "completed"
    },
    "tags": []
   },
   "outputs": [],
   "source": [
    "from sklearn.neighbors import KNeighborsClassifier\n",
    "obj = KNeighborsClassifier()"
   ]
  },
  {
   "cell_type": "markdown",
   "metadata": {
    "papermill": {
     "duration": 0.011577,
     "end_time": "2021-03-01T16:31:16.623585",
     "exception": false,
     "start_time": "2021-03-01T16:31:16.612008",
     "status": "completed"
    },
    "tags": []
   },
   "source": [
    "**Trains the model by using X_train and y_train**"
   ]
  },
  {
   "cell_type": "code",
   "execution_count": 7,
   "metadata": {
    "execution": {
     "iopub.execute_input": "2021-03-01T16:31:16.654847Z",
     "iopub.status.busy": "2021-03-01T16:31:16.654196Z",
     "iopub.status.idle": "2021-03-01T16:31:16.661290Z",
     "shell.execute_reply": "2021-03-01T16:31:16.660753Z"
    },
    "papermill": {
     "duration": 0.026151,
     "end_time": "2021-03-01T16:31:16.661451",
     "exception": false,
     "start_time": "2021-03-01T16:31:16.635300",
     "status": "completed"
    },
    "tags": []
   },
   "outputs": [
    {
     "data": {
      "text/plain": [
       "KNeighborsClassifier()"
      ]
     },
     "execution_count": 7,
     "metadata": {},
     "output_type": "execute_result"
    }
   ],
   "source": [
    "obj.fit(X_train, y_train)"
   ]
  },
  {
   "cell_type": "markdown",
   "metadata": {
    "papermill": {
     "duration": 0.011792,
     "end_time": "2021-03-01T16:31:16.685530",
     "exception": false,
     "start_time": "2021-03-01T16:31:16.673738",
     "status": "completed"
    },
    "tags": []
   },
   "source": [
    "**Predicts output for testing data X_test**"
   ]
  },
  {
   "cell_type": "code",
   "execution_count": 8,
   "metadata": {
    "execution": {
     "iopub.execute_input": "2021-03-01T16:31:16.716720Z",
     "iopub.status.busy": "2021-03-01T16:31:16.715936Z",
     "iopub.status.idle": "2021-03-01T16:31:16.720609Z",
     "shell.execute_reply": "2021-03-01T16:31:16.720083Z"
    },
    "papermill": {
     "duration": 0.023093,
     "end_time": "2021-03-01T16:31:16.720765",
     "exception": false,
     "start_time": "2021-03-01T16:31:16.697672",
     "status": "completed"
    },
    "tags": []
   },
   "outputs": [
    {
     "data": {
      "text/plain": [
       "array([1, 1, 0, 0])"
      ]
     },
     "execution_count": 8,
     "metadata": {},
     "output_type": "execute_result"
    }
   ],
   "source": [
    "obj.predict(X_test)"
   ]
  },
  {
   "cell_type": "markdown",
   "metadata": {
    "papermill": {
     "duration": 0.01251,
     "end_time": "2021-03-01T16:31:16.746434",
     "exception": false,
     "start_time": "2021-03-01T16:31:16.733924",
     "status": "completed"
    },
    "tags": []
   },
   "source": [
    "**Shows accuracy of model**"
   ]
  },
  {
   "cell_type": "code",
   "execution_count": 9,
   "metadata": {
    "execution": {
     "iopub.execute_input": "2021-03-01T16:31:16.780740Z",
     "iopub.status.busy": "2021-03-01T16:31:16.779917Z",
     "iopub.status.idle": "2021-03-01T16:31:16.783277Z",
     "shell.execute_reply": "2021-03-01T16:31:16.783779Z"
    },
    "papermill": {
     "duration": 0.02474,
     "end_time": "2021-03-01T16:31:16.783947",
     "exception": false,
     "start_time": "2021-03-01T16:31:16.759207",
     "status": "completed"
    },
    "tags": []
   },
   "outputs": [
    {
     "data": {
      "text/plain": [
       "1.0"
      ]
     },
     "execution_count": 9,
     "metadata": {},
     "output_type": "execute_result"
    }
   ],
   "source": [
    "obj.score(X_test, y_test)"
   ]
  }
 ],
 "metadata": {
  "kernelspec": {
   "display_name": "Python 3",
   "language": "python",
   "name": "python3"
  },
  "language_info": {
   "codemirror_mode": {
    "name": "ipython",
    "version": 3
   },
   "file_extension": ".py",
   "mimetype": "text/x-python",
   "name": "python",
   "nbconvert_exporter": "python",
   "pygments_lexer": "ipython3",
   "version": "3.7.4"
  },
  "papermill": {
   "default_parameters": {},
   "duration": 8.30002,
   "end_time": "2021-03-01T16:31:17.406581",
   "environment_variables": {},
   "exception": null,
   "input_path": "__notebook__.ipynb",
   "output_path": "__notebook__.ipynb",
   "parameters": {},
   "start_time": "2021-03-01T16:31:09.106561",
   "version": "2.2.2"
  }
 },
 "nbformat": 4,
 "nbformat_minor": 4
}
