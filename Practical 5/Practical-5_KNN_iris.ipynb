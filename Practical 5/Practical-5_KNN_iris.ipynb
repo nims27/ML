{
 "cells": [
  {
   "cell_type": "markdown",
   "metadata": {
    "papermill": {
     "duration": 0.011801,
     "end_time": "2021-03-01T16:27:45.780962",
     "exception": false,
     "start_time": "2021-03-01T16:27:45.769161",
     "status": "completed"
    },
    "tags": []
   },
   "source": [
    "**Import pandas and numpy libraries**"
   ]
  },
  {
   "cell_type": "code",
   "execution_count": 1,
   "metadata": {
    "_cell_guid": "b1076dfc-b9ad-4769-8c92-a6c4dae69d19",
    "_uuid": "8f2839f25d086af736a60e9eeb907d3b93b6e0e5",
    "execution": {
     "iopub.execute_input": "2021-03-01T16:27:45.806060Z",
     "iopub.status.busy": "2021-03-01T16:27:45.805408Z",
     "iopub.status.idle": "2021-03-01T16:27:45.811359Z",
     "shell.execute_reply": "2021-03-01T16:27:45.810530Z"
    },
    "papermill": {
     "duration": 0.02026,
     "end_time": "2021-03-01T16:27:45.811560",
     "exception": false,
     "start_time": "2021-03-01T16:27:45.791300",
     "status": "completed"
    },
    "tags": []
   },
   "outputs": [],
   "source": [
    "import numpy as np \n",
    "import pandas as pd "
   ]
  },
  {
   "cell_type": "markdown",
   "metadata": {
    "papermill": {
     "duration": 0.009733,
     "end_time": "2021-03-01T16:27:45.831373",
     "exception": false,
     "start_time": "2021-03-01T16:27:45.821640",
     "status": "completed"
    },
    "tags": []
   },
   "source": [
    "**Loads iris dataset from sklearn**"
   ]
  },
  {
   "cell_type": "code",
   "execution_count": 2,
   "metadata": {
    "execution": {
     "iopub.execute_input": "2021-03-01T16:27:45.857048Z",
     "iopub.status.busy": "2021-03-01T16:27:45.856132Z",
     "iopub.status.idle": "2021-03-01T16:27:46.945146Z",
     "shell.execute_reply": "2021-03-01T16:27:46.943977Z"
    },
    "papermill": {
     "duration": 1.103844,
     "end_time": "2021-03-01T16:27:46.945309",
     "exception": false,
     "start_time": "2021-03-01T16:27:45.841465",
     "status": "completed"
    },
    "tags": []
   },
   "outputs": [],
   "source": [
    "from sklearn.datasets import load_iris\n",
    "data = load_iris()"
   ]
  },
  {
   "cell_type": "markdown",
   "metadata": {
    "papermill": {
     "duration": 0.00974,
     "end_time": "2021-03-01T16:27:46.965895",
     "exception": false,
     "start_time": "2021-03-01T16:27:46.956155",
     "status": "completed"
    },
    "tags": []
   },
   "source": [
    "**Converts iris dataset into dataframe df**"
   ]
  },
  {
   "cell_type": "code",
   "execution_count": 3,
   "metadata": {
    "execution": {
     "iopub.execute_input": "2021-03-01T16:27:47.006340Z",
     "iopub.status.busy": "2021-03-01T16:27:47.005640Z",
     "iopub.status.idle": "2021-03-01T16:27:47.028057Z",
     "shell.execute_reply": "2021-03-01T16:27:47.027505Z"
    },
    "papermill": {
     "duration": 0.052313,
     "end_time": "2021-03-01T16:27:47.028202",
     "exception": false,
     "start_time": "2021-03-01T16:27:46.975889",
     "status": "completed"
    },
    "tags": []
   },
   "outputs": [
    {
     "data": {
      "text/html": [
       "<div>\n",
       "<style scoped>\n",
       "    .dataframe tbody tr th:only-of-type {\n",
       "        vertical-align: middle;\n",
       "    }\n",
       "\n",
       "    .dataframe tbody tr th {\n",
       "        vertical-align: top;\n",
       "    }\n",
       "\n",
       "    .dataframe thead th {\n",
       "        text-align: right;\n",
       "    }\n",
       "</style>\n",
       "<table border=\"1\" class=\"dataframe\">\n",
       "  <thead>\n",
       "    <tr style=\"text-align: right;\">\n",
       "      <th></th>\n",
       "      <th>sepal length (cm)</th>\n",
       "      <th>sepal width (cm)</th>\n",
       "      <th>petal length (cm)</th>\n",
       "      <th>petal width (cm)</th>\n",
       "      <th>target</th>\n",
       "    </tr>\n",
       "  </thead>\n",
       "  <tbody>\n",
       "    <tr>\n",
       "      <th>0</th>\n",
       "      <td>5.1</td>\n",
       "      <td>3.5</td>\n",
       "      <td>1.4</td>\n",
       "      <td>0.2</td>\n",
       "      <td>0</td>\n",
       "    </tr>\n",
       "    <tr>\n",
       "      <th>1</th>\n",
       "      <td>4.9</td>\n",
       "      <td>3.0</td>\n",
       "      <td>1.4</td>\n",
       "      <td>0.2</td>\n",
       "      <td>0</td>\n",
       "    </tr>\n",
       "    <tr>\n",
       "      <th>2</th>\n",
       "      <td>4.7</td>\n",
       "      <td>3.2</td>\n",
       "      <td>1.3</td>\n",
       "      <td>0.2</td>\n",
       "      <td>0</td>\n",
       "    </tr>\n",
       "    <tr>\n",
       "      <th>3</th>\n",
       "      <td>4.6</td>\n",
       "      <td>3.1</td>\n",
       "      <td>1.5</td>\n",
       "      <td>0.2</td>\n",
       "      <td>0</td>\n",
       "    </tr>\n",
       "    <tr>\n",
       "      <th>4</th>\n",
       "      <td>5.0</td>\n",
       "      <td>3.6</td>\n",
       "      <td>1.4</td>\n",
       "      <td>0.2</td>\n",
       "      <td>0</td>\n",
       "    </tr>\n",
       "  </tbody>\n",
       "</table>\n",
       "</div>"
      ],
      "text/plain": [
       "   sepal length (cm)  sepal width (cm)  petal length (cm)  petal width (cm)  \\\n",
       "0                5.1               3.5                1.4               0.2   \n",
       "1                4.9               3.0                1.4               0.2   \n",
       "2                4.7               3.2                1.3               0.2   \n",
       "3                4.6               3.1                1.5               0.2   \n",
       "4                5.0               3.6                1.4               0.2   \n",
       "\n",
       "   target  \n",
       "0       0  \n",
       "1       0  \n",
       "2       0  \n",
       "3       0  \n",
       "4       0  "
      ]
     },
     "execution_count": 3,
     "metadata": {},
     "output_type": "execute_result"
    }
   ],
   "source": [
    "df = pd.DataFrame(data.data, columns=data.feature_names)\n",
    "df[\"target\"] = data.target\n",
    "df.head()"
   ]
  },
  {
   "cell_type": "markdown",
   "metadata": {
    "papermill": {
     "duration": 0.010892,
     "end_time": "2021-03-01T16:27:47.050129",
     "exception": false,
     "start_time": "2021-03-01T16:27:47.039237",
     "status": "completed"
    },
    "tags": []
   },
   "source": [
    "**Divides independent and dependent variables into X and y respectively**"
   ]
  },
  {
   "cell_type": "code",
   "execution_count": 4,
   "metadata": {
    "execution": {
     "iopub.execute_input": "2021-03-01T16:27:47.078554Z",
     "iopub.status.busy": "2021-03-01T16:27:47.077907Z",
     "iopub.status.idle": "2021-03-01T16:27:47.081350Z",
     "shell.execute_reply": "2021-03-01T16:27:47.080829Z"
    },
    "papermill": {
     "duration": 0.020158,
     "end_time": "2021-03-01T16:27:47.081492",
     "exception": false,
     "start_time": "2021-03-01T16:27:47.061334",
     "status": "completed"
    },
    "tags": []
   },
   "outputs": [],
   "source": [
    "X = df.iloc[:, :4].values\n",
    "y = df.iloc[:, 4].values"
   ]
  },
  {
   "cell_type": "markdown",
   "metadata": {
    "papermill": {
     "duration": 0.010667,
     "end_time": "2021-03-01T16:27:47.103084",
     "exception": false,
     "start_time": "2021-03-01T16:27:47.092417",
     "status": "completed"
    },
    "tags": []
   },
   "source": [
    "**Divides data into 80% training and 20% testing data**"
   ]
  },
  {
   "cell_type": "code",
   "execution_count": 5,
   "metadata": {
    "execution": {
     "iopub.execute_input": "2021-03-01T16:27:47.130609Z",
     "iopub.status.busy": "2021-03-01T16:27:47.129914Z",
     "iopub.status.idle": "2021-03-01T16:27:47.204412Z",
     "shell.execute_reply": "2021-03-01T16:27:47.203874Z"
    },
    "papermill": {
     "duration": 0.090506,
     "end_time": "2021-03-01T16:27:47.204564",
     "exception": false,
     "start_time": "2021-03-01T16:27:47.114058",
     "status": "completed"
    },
    "tags": []
   },
   "outputs": [],
   "source": [
    "from sklearn.model_selection import train_test_split\n",
    "X_train, X_test, y_train, y_test = train_test_split(X, y, test_size=0.2, random_state=0)"
   ]
  },
  {
   "cell_type": "markdown",
   "metadata": {
    "papermill": {
     "duration": 0.010962,
     "end_time": "2021-03-01T16:27:47.226882",
     "exception": false,
     "start_time": "2021-03-01T16:27:47.215920",
     "status": "completed"
    },
    "tags": []
   },
   "source": [
    "**Import KNN model and creates object of it**"
   ]
  },
  {
   "cell_type": "code",
   "execution_count": 6,
   "metadata": {
    "execution": {
     "iopub.execute_input": "2021-03-01T16:27:47.254340Z",
     "iopub.status.busy": "2021-03-01T16:27:47.253646Z",
     "iopub.status.idle": "2021-03-01T16:27:47.553982Z",
     "shell.execute_reply": "2021-03-01T16:27:47.554808Z"
    },
    "papermill": {
     "duration": 0.316981,
     "end_time": "2021-03-01T16:27:47.555058",
     "exception": false,
     "start_time": "2021-03-01T16:27:47.238077",
     "status": "completed"
    },
    "tags": []
   },
   "outputs": [],
   "source": [
    "from sklearn.neighbors import KNeighborsClassifier\n",
    "obj = KNeighborsClassifier()"
   ]
  },
  {
   "cell_type": "markdown",
   "metadata": {
    "papermill": {
     "duration": 0.010906,
     "end_time": "2021-03-01T16:27:47.579190",
     "exception": false,
     "start_time": "2021-03-01T16:27:47.568284",
     "status": "completed"
    },
    "tags": []
   },
   "source": [
    "**Trains the model by using X_train and y_train**"
   ]
  },
  {
   "cell_type": "code",
   "execution_count": 7,
   "metadata": {
    "execution": {
     "iopub.execute_input": "2021-03-01T16:27:47.609204Z",
     "iopub.status.busy": "2021-03-01T16:27:47.608205Z",
     "iopub.status.idle": "2021-03-01T16:27:47.615524Z",
     "shell.execute_reply": "2021-03-01T16:27:47.614972Z"
    },
    "papermill": {
     "duration": 0.025255,
     "end_time": "2021-03-01T16:27:47.615688",
     "exception": false,
     "start_time": "2021-03-01T16:27:47.590433",
     "status": "completed"
    },
    "tags": []
   },
   "outputs": [
    {
     "data": {
      "text/plain": [
       "KNeighborsClassifier()"
      ]
     },
     "execution_count": 7,
     "metadata": {},
     "output_type": "execute_result"
    }
   ],
   "source": [
    "obj.fit(X_train, y_train)"
   ]
  },
  {
   "cell_type": "markdown",
   "metadata": {
    "papermill": {
     "duration": 0.012199,
     "end_time": "2021-03-01T16:27:47.640188",
     "exception": false,
     "start_time": "2021-03-01T16:27:47.627989",
     "status": "completed"
    },
    "tags": []
   },
   "source": [
    "**Predicts output for testing data X_test**"
   ]
  },
  {
   "cell_type": "code",
   "execution_count": 8,
   "metadata": {
    "execution": {
     "iopub.execute_input": "2021-03-01T16:27:47.676606Z",
     "iopub.status.busy": "2021-03-01T16:27:47.675925Z",
     "iopub.status.idle": "2021-03-01T16:27:47.685905Z",
     "shell.execute_reply": "2021-03-01T16:27:47.685044Z"
    },
    "papermill": {
     "duration": 0.03076,
     "end_time": "2021-03-01T16:27:47.686112",
     "exception": false,
     "start_time": "2021-03-01T16:27:47.655352",
     "status": "completed"
    },
    "tags": []
   },
   "outputs": [
    {
     "data": {
      "text/plain": [
       "array([2, 1, 0, 2, 0, 2, 0, 1, 1, 1, 2, 1, 1, 1, 2, 0, 1, 1, 0, 0, 2, 1,\n",
       "       0, 0, 2, 0, 0, 1, 1, 0])"
      ]
     },
     "execution_count": 8,
     "metadata": {},
     "output_type": "execute_result"
    }
   ],
   "source": [
    "obj.predict(X_test)"
   ]
  },
  {
   "cell_type": "markdown",
   "metadata": {
    "papermill": {
     "duration": 0.013394,
     "end_time": "2021-03-01T16:27:47.718864",
     "exception": false,
     "start_time": "2021-03-01T16:27:47.705470",
     "status": "completed"
    },
    "tags": []
   },
   "source": [
    "**Shows accuracy of model**"
   ]
  },
  {
   "cell_type": "code",
   "execution_count": 9,
   "metadata": {
    "execution": {
     "iopub.execute_input": "2021-03-01T16:27:47.746506Z",
     "iopub.status.busy": "2021-03-01T16:27:47.745881Z",
     "iopub.status.idle": "2021-03-01T16:27:47.756475Z",
     "shell.execute_reply": "2021-03-01T16:27:47.757358Z"
    },
    "papermill": {
     "duration": 0.026541,
     "end_time": "2021-03-01T16:27:47.757624",
     "exception": false,
     "start_time": "2021-03-01T16:27:47.731083",
     "status": "completed"
    },
    "tags": []
   },
   "outputs": [
    {
     "data": {
      "text/plain": [
       "0.9666666666666667"
      ]
     },
     "execution_count": 9,
     "metadata": {},
     "output_type": "execute_result"
    }
   ],
   "source": [
    "obj.score(X_test, y_test)"
   ]
  }
 ],
 "metadata": {
  "kernelspec": {
   "display_name": "Python 3",
   "language": "python",
   "name": "python3"
  },
  "language_info": {
   "codemirror_mode": {
    "name": "ipython",
    "version": 3
   },
   "file_extension": ".py",
   "mimetype": "text/x-python",
   "name": "python",
   "nbconvert_exporter": "python",
   "pygments_lexer": "ipython3",
   "version": "3.7.4"
  },
  "papermill": {
   "default_parameters": {},
   "duration": 8.818978,
   "end_time": "2021-03-01T16:27:48.485727",
   "environment_variables": {},
   "exception": null,
   "input_path": "__notebook__.ipynb",
   "output_path": "__notebook__.ipynb",
   "parameters": {},
   "start_time": "2021-03-01T16:27:39.666749",
   "version": "2.2.2"
  }
 },
 "nbformat": 4,
 "nbformat_minor": 4
}
